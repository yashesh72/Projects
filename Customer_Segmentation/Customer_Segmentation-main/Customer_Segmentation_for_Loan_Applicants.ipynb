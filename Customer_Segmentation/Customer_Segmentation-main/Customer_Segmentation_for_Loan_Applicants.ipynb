{
 "cells": [
  {
   "cell_type": "markdown",
   "metadata": {},
   "source": [
    "# Importing Libraries"
   ]
  },
  {
   "cell_type": "code",
   "execution_count": null,
   "metadata": {},
   "outputs": [],
   "source": [
    "import numpy as np\n",
    "import pandas as pd\n",
    "import matplotlib.pyplot as plt\n",
    "import seaborn as sns"
   ]
  },
  {
   "cell_type": "markdown",
   "metadata": {},
   "source": [
    "# Importing the Data for ML Project"
   ]
  },
  {
   "cell_type": "code",
   "execution_count": 67,
   "metadata": {},
   "outputs": [],
   "source": [
    "df = pd.read_excel('C:/Users/aksin52/Documents/Webinar_Customer_Segmentation/train.xlsx')"
   ]
  },
  {
   "cell_type": "code",
   "execution_count": 68,
   "metadata": {},
   "outputs": [
    {
     "data": {
      "text/plain": [
       "(69713, 23)"
      ]
     },
     "execution_count": 68,
     "metadata": {},
     "output_type": "execute_result"
    }
   ],
   "source": [
    "df.shape"
   ]
  },
  {
   "cell_type": "code",
   "execution_count": 69,
   "metadata": {
    "scrolled": false
   },
   "outputs": [
    {
     "data": {
      "text/html": [
       "<div>\n",
       "<style scoped>\n",
       "    .dataframe tbody tr th:only-of-type {\n",
       "        vertical-align: middle;\n",
       "    }\n",
       "\n",
       "    .dataframe tbody tr th {\n",
       "        vertical-align: top;\n",
       "    }\n",
       "\n",
       "    .dataframe thead th {\n",
       "        text-align: right;\n",
       "    }\n",
       "</style>\n",
       "<table border=\"1\" class=\"dataframe\">\n",
       "  <thead>\n",
       "    <tr style=\"text-align: right;\">\n",
       "      <th></th>\n",
       "      <th>ID</th>\n",
       "      <th>Gender</th>\n",
       "      <th>DOB</th>\n",
       "      <th>Lead_Creation_Date</th>\n",
       "      <th>City_Code</th>\n",
       "      <th>City_Category</th>\n",
       "      <th>Employer_Code</th>\n",
       "      <th>Employer_Category1</th>\n",
       "      <th>Employer_Category2</th>\n",
       "      <th>Monthly_Income</th>\n",
       "      <th>Customer_Existing_Primary_Bank_Code</th>\n",
       "      <th>Primary_Bank_Type</th>\n",
       "      <th>Contacted</th>\n",
       "      <th>Source</th>\n",
       "      <th>Source_Category</th>\n",
       "      <th>Existing_EMI</th>\n",
       "      <th>Loan_Amount</th>\n",
       "      <th>Loan_Period</th>\n",
       "      <th>Interest_Rate</th>\n",
       "      <th>EMI</th>\n",
       "      <th>Var1</th>\n",
       "      <th>Approved</th>\n",
       "      <th>loan_amt_cl</th>\n",
       "    </tr>\n",
       "  </thead>\n",
       "  <tbody>\n",
       "    <tr>\n",
       "      <th>0</th>\n",
       "      <td>APPC90493171225</td>\n",
       "      <td>Female</td>\n",
       "      <td>1979-07-23</td>\n",
       "      <td>2016-07-15</td>\n",
       "      <td>C10001</td>\n",
       "      <td>A</td>\n",
       "      <td>COM0044082</td>\n",
       "      <td>A</td>\n",
       "      <td>4.0</td>\n",
       "      <td>2000.0</td>\n",
       "      <td>B001</td>\n",
       "      <td>P</td>\n",
       "      <td>N</td>\n",
       "      <td>S122</td>\n",
       "      <td>G</td>\n",
       "      <td>0.0</td>\n",
       "      <td>NaN</td>\n",
       "      <td>NaN</td>\n",
       "      <td>NaN</td>\n",
       "      <td>NaN</td>\n",
       "      <td>0</td>\n",
       "      <td>0</td>\n",
       "      <td>0</td>\n",
       "    </tr>\n",
       "    <tr>\n",
       "      <th>1</th>\n",
       "      <td>APPD40611263344</td>\n",
       "      <td>Male</td>\n",
       "      <td>1986-12-07</td>\n",
       "      <td>2016-07-04</td>\n",
       "      <td>C10003</td>\n",
       "      <td>A</td>\n",
       "      <td>COM0000002</td>\n",
       "      <td>C</td>\n",
       "      <td>1.0</td>\n",
       "      <td>3500.0</td>\n",
       "      <td>B002</td>\n",
       "      <td>P</td>\n",
       "      <td>Y</td>\n",
       "      <td>S122</td>\n",
       "      <td>G</td>\n",
       "      <td>0.0</td>\n",
       "      <td>20000.0</td>\n",
       "      <td>2.0</td>\n",
       "      <td>13.25</td>\n",
       "      <td>953.0</td>\n",
       "      <td>10</td>\n",
       "      <td>0</td>\n",
       "      <td>20000</td>\n",
       "    </tr>\n",
       "    <tr>\n",
       "      <th>2</th>\n",
       "      <td>APPE70289249423</td>\n",
       "      <td>Male</td>\n",
       "      <td>1982-12-10</td>\n",
       "      <td>2016-07-19</td>\n",
       "      <td>C10125</td>\n",
       "      <td>C</td>\n",
       "      <td>COM0005267</td>\n",
       "      <td>C</td>\n",
       "      <td>4.0</td>\n",
       "      <td>2250.0</td>\n",
       "      <td>B003</td>\n",
       "      <td>G</td>\n",
       "      <td>Y</td>\n",
       "      <td>S143</td>\n",
       "      <td>B</td>\n",
       "      <td>0.0</td>\n",
       "      <td>45000.0</td>\n",
       "      <td>4.0</td>\n",
       "      <td>NaN</td>\n",
       "      <td>NaN</td>\n",
       "      <td>0</td>\n",
       "      <td>0</td>\n",
       "      <td>45000</td>\n",
       "    </tr>\n",
       "    <tr>\n",
       "      <th>3</th>\n",
       "      <td>APPF80273865537</td>\n",
       "      <td>Male</td>\n",
       "      <td>1989-01-30</td>\n",
       "      <td>2016-07-09</td>\n",
       "      <td>C10477</td>\n",
       "      <td>C</td>\n",
       "      <td>COM0004143</td>\n",
       "      <td>A</td>\n",
       "      <td>4.0</td>\n",
       "      <td>3500.0</td>\n",
       "      <td>B003</td>\n",
       "      <td>G</td>\n",
       "      <td>Y</td>\n",
       "      <td>S143</td>\n",
       "      <td>B</td>\n",
       "      <td>0.0</td>\n",
       "      <td>92000.0</td>\n",
       "      <td>5.0</td>\n",
       "      <td>NaN</td>\n",
       "      <td>NaN</td>\n",
       "      <td>7</td>\n",
       "      <td>0</td>\n",
       "      <td>92000</td>\n",
       "    </tr>\n",
       "    <tr>\n",
       "      <th>4</th>\n",
       "      <td>APPG60994436641</td>\n",
       "      <td>Male</td>\n",
       "      <td>1985-04-19</td>\n",
       "      <td>2016-07-20</td>\n",
       "      <td>C10002</td>\n",
       "      <td>A</td>\n",
       "      <td>COM0001781</td>\n",
       "      <td>A</td>\n",
       "      <td>4.0</td>\n",
       "      <td>10000.0</td>\n",
       "      <td>B001</td>\n",
       "      <td>P</td>\n",
       "      <td>Y</td>\n",
       "      <td>S134</td>\n",
       "      <td>B</td>\n",
       "      <td>2500.0</td>\n",
       "      <td>50000.0</td>\n",
       "      <td>2.0</td>\n",
       "      <td>NaN</td>\n",
       "      <td>NaN</td>\n",
       "      <td>10</td>\n",
       "      <td>0</td>\n",
       "      <td>50000</td>\n",
       "    </tr>\n",
       "  </tbody>\n",
       "</table>\n",
       "</div>"
      ],
      "text/plain": [
       "                ID  Gender        DOB Lead_Creation_Date City_Code  \\\n",
       "0  APPC90493171225  Female 1979-07-23         2016-07-15    C10001   \n",
       "1  APPD40611263344    Male 1986-12-07         2016-07-04    C10003   \n",
       "2  APPE70289249423    Male 1982-12-10         2016-07-19    C10125   \n",
       "3  APPF80273865537    Male 1989-01-30         2016-07-09    C10477   \n",
       "4  APPG60994436641    Male 1985-04-19         2016-07-20    C10002   \n",
       "\n",
       "  City_Category Employer_Code Employer_Category1  Employer_Category2  \\\n",
       "0             A    COM0044082                  A                 4.0   \n",
       "1             A    COM0000002                  C                 1.0   \n",
       "2             C    COM0005267                  C                 4.0   \n",
       "3             C    COM0004143                  A                 4.0   \n",
       "4             A    COM0001781                  A                 4.0   \n",
       "\n",
       "   Monthly_Income Customer_Existing_Primary_Bank_Code Primary_Bank_Type  \\\n",
       "0          2000.0                                B001                 P   \n",
       "1          3500.0                                B002                 P   \n",
       "2          2250.0                                B003                 G   \n",
       "3          3500.0                                B003                 G   \n",
       "4         10000.0                                B001                 P   \n",
       "\n",
       "  Contacted Source Source_Category  Existing_EMI  Loan_Amount  Loan_Period  \\\n",
       "0         N   S122               G           0.0          NaN          NaN   \n",
       "1         Y   S122               G           0.0      20000.0          2.0   \n",
       "2         Y   S143               B           0.0      45000.0          4.0   \n",
       "3         Y   S143               B           0.0      92000.0          5.0   \n",
       "4         Y   S134               B        2500.0      50000.0          2.0   \n",
       "\n",
       "   Interest_Rate    EMI  Var1  Approved  loan_amt_cl  \n",
       "0            NaN    NaN     0         0            0  \n",
       "1          13.25  953.0    10         0        20000  \n",
       "2            NaN    NaN     0         0        45000  \n",
       "3            NaN    NaN     7         0        92000  \n",
       "4            NaN    NaN    10         0        50000  "
      ]
     },
     "execution_count": 69,
     "metadata": {},
     "output_type": "execute_result"
    }
   ],
   "source": [
    "df.head()"
   ]
  },
  {
   "cell_type": "code",
   "execution_count": 70,
   "metadata": {},
   "outputs": [
    {
     "data": {
      "text/plain": [
       "ID                                             object\n",
       "Gender                                         object\n",
       "DOB                                    datetime64[ns]\n",
       "Lead_Creation_Date                     datetime64[ns]\n",
       "City_Code                                      object\n",
       "City_Category                                  object\n",
       "Employer_Code                                  object\n",
       "Employer_Category1                             object\n",
       "Employer_Category2                            float64\n",
       "Monthly_Income                                float64\n",
       "Customer_Existing_Primary_Bank_Code            object\n",
       "Primary_Bank_Type                              object\n",
       "Contacted                                      object\n",
       "Source                                         object\n",
       "Source_Category                                object\n",
       "Existing_EMI                                  float64\n",
       "Loan_Amount                                   float64\n",
       "Loan_Period                                   float64\n",
       "Interest_Rate                                 float64\n",
       "EMI                                           float64\n",
       "Var1                                            int64\n",
       "Approved                                        int64\n",
       "loan_amt_cl                                     int64\n",
       "dtype: object"
      ]
     },
     "execution_count": 70,
     "metadata": {},
     "output_type": "execute_result"
    }
   ],
   "source": [
    "df.dtypes"
   ]
  },
  {
   "cell_type": "markdown",
   "metadata": {},
   "source": [
    "# Setting Display options to ensure feature name visibility"
   ]
  },
  {
   "cell_type": "code",
   "execution_count": 71,
   "metadata": {},
   "outputs": [],
   "source": [
    "pd.set_option('display.max_columns',None)"
   ]
  },
  {
   "cell_type": "markdown",
   "metadata": {},
   "source": [
    "# Warning Suppression "
   ]
  },
  {
   "cell_type": "code",
   "execution_count": 72,
   "metadata": {},
   "outputs": [],
   "source": [
    "import warnings\n",
    "warnings.filterwarnings('ignore')"
   ]
  },
  {
   "cell_type": "markdown",
   "metadata": {},
   "source": [
    "# Drop ID"
   ]
  },
  {
   "cell_type": "code",
   "execution_count": 73,
   "metadata": {},
   "outputs": [],
   "source": [
    "df=df.drop(['ID'],axis=1)"
   ]
  },
  {
   "cell_type": "markdown",
   "metadata": {},
   "source": [
    "# Defining Target and Independent Features"
   ]
  },
  {
   "cell_type": "code",
   "execution_count": 74,
   "metadata": {},
   "outputs": [],
   "source": [
    "Y=df[['Approved']]\n",
    "\n",
    "X=df.drop(['Approved'],axis=1)"
   ]
  },
  {
   "cell_type": "markdown",
   "metadata": {},
   "source": [
    "# Get the Event Rate"
   ]
  },
  {
   "cell_type": "code",
   "execution_count": 75,
   "metadata": {},
   "outputs": [
    {
     "data": {
      "text/plain": [
       "Approved    0.014631\n",
       "dtype: float64"
      ]
     },
     "execution_count": 75,
     "metadata": {},
     "output_type": "execute_result"
    }
   ],
   "source": [
    "Y.mean()"
   ]
  },
  {
   "cell_type": "code",
   "execution_count": 76,
   "metadata": {},
   "outputs": [
    {
     "data": {
      "text/plain": [
       "Timestamp('1999-02-24 00:00:00')"
      ]
     },
     "execution_count": 76,
     "metadata": {},
     "output_type": "execute_result"
    }
   ],
   "source": [
    "X['DOB'].max()"
   ]
  },
  {
   "cell_type": "code",
   "execution_count": 77,
   "metadata": {},
   "outputs": [
    {
     "data": {
      "text/plain": [
       "Timestamp('2016-09-30 00:00:00')"
      ]
     },
     "execution_count": 77,
     "metadata": {},
     "output_type": "execute_result"
    }
   ],
   "source": [
    "X['Lead_Creation_Date'].max()"
   ]
  },
  {
   "cell_type": "markdown",
   "metadata": {},
   "source": [
    "# process date features"
   ]
  },
  {
   "cell_type": "code",
   "execution_count": 79,
   "metadata": {},
   "outputs": [
    {
     "name": "stdout",
     "output_type": "stream",
     "text": [
      "Reference Date for Age: 2016-10-30 00:00:00\n",
      "Reference Date for Lead Creation: 2016-10-30 00:00:00\n"
     ]
    }
   ],
   "source": [
    "import datetime\n",
    "reference_date_dob = df.DOB.max() + datetime.timedelta(days = 6458)\n",
    "print('Reference Date for Age:', reference_date_dob)\n",
    "\n",
    "reference_date_lead = df.Lead_Creation_Date.max() + datetime.timedelta(days = 30)\n",
    "print('Reference Date for Lead Creation:', reference_date_lead)\n"
   ]
  },
  {
   "cell_type": "code",
   "execution_count": 80,
   "metadata": {
    "scrolled": true
   },
   "outputs": [
    {
     "data": {
      "text/html": [
       "<div>\n",
       "<style scoped>\n",
       "    .dataframe tbody tr th:only-of-type {\n",
       "        vertical-align: middle;\n",
       "    }\n",
       "\n",
       "    .dataframe tbody tr th {\n",
       "        vertical-align: top;\n",
       "    }\n",
       "\n",
       "    .dataframe thead th {\n",
       "        text-align: right;\n",
       "    }\n",
       "</style>\n",
       "<table border=\"1\" class=\"dataframe\">\n",
       "  <thead>\n",
       "    <tr style=\"text-align: right;\">\n",
       "      <th></th>\n",
       "      <th>Gender</th>\n",
       "      <th>City_Code</th>\n",
       "      <th>City_Category</th>\n",
       "      <th>Employer_Code</th>\n",
       "      <th>Employer_Category1</th>\n",
       "      <th>Employer_Category2</th>\n",
       "      <th>Monthly_Income</th>\n",
       "      <th>Customer_Existing_Primary_Bank_Code</th>\n",
       "      <th>Primary_Bank_Type</th>\n",
       "      <th>Contacted</th>\n",
       "      <th>Source</th>\n",
       "      <th>Source_Category</th>\n",
       "      <th>Existing_EMI</th>\n",
       "      <th>Loan_Amount</th>\n",
       "      <th>Loan_Period</th>\n",
       "      <th>Interest_Rate</th>\n",
       "      <th>EMI</th>\n",
       "      <th>Var1</th>\n",
       "      <th>loan_amt_cl</th>\n",
       "      <th>age</th>\n",
       "      <th>lead_age</th>\n",
       "    </tr>\n",
       "  </thead>\n",
       "  <tbody>\n",
       "    <tr>\n",
       "      <th>0</th>\n",
       "      <td>Female</td>\n",
       "      <td>C10001</td>\n",
       "      <td>A</td>\n",
       "      <td>COM0044082</td>\n",
       "      <td>A</td>\n",
       "      <td>4.0</td>\n",
       "      <td>2000.0</td>\n",
       "      <td>B001</td>\n",
       "      <td>P</td>\n",
       "      <td>N</td>\n",
       "      <td>S122</td>\n",
       "      <td>G</td>\n",
       "      <td>0.0</td>\n",
       "      <td>NaN</td>\n",
       "      <td>NaN</td>\n",
       "      <td>NaN</td>\n",
       "      <td>NaN</td>\n",
       "      <td>0</td>\n",
       "      <td>0</td>\n",
       "      <td>37.0</td>\n",
       "      <td>3.0</td>\n",
       "    </tr>\n",
       "    <tr>\n",
       "      <th>1</th>\n",
       "      <td>Male</td>\n",
       "      <td>C10003</td>\n",
       "      <td>A</td>\n",
       "      <td>COM0000002</td>\n",
       "      <td>C</td>\n",
       "      <td>1.0</td>\n",
       "      <td>3500.0</td>\n",
       "      <td>B002</td>\n",
       "      <td>P</td>\n",
       "      <td>Y</td>\n",
       "      <td>S122</td>\n",
       "      <td>G</td>\n",
       "      <td>0.0</td>\n",
       "      <td>20000.0</td>\n",
       "      <td>2.0</td>\n",
       "      <td>13.25</td>\n",
       "      <td>953.0</td>\n",
       "      <td>10</td>\n",
       "      <td>20000</td>\n",
       "      <td>29.0</td>\n",
       "      <td>3.0</td>\n",
       "    </tr>\n",
       "    <tr>\n",
       "      <th>2</th>\n",
       "      <td>Male</td>\n",
       "      <td>C10125</td>\n",
       "      <td>C</td>\n",
       "      <td>COM0005267</td>\n",
       "      <td>C</td>\n",
       "      <td>4.0</td>\n",
       "      <td>2250.0</td>\n",
       "      <td>B003</td>\n",
       "      <td>G</td>\n",
       "      <td>Y</td>\n",
       "      <td>S143</td>\n",
       "      <td>B</td>\n",
       "      <td>0.0</td>\n",
       "      <td>45000.0</td>\n",
       "      <td>4.0</td>\n",
       "      <td>NaN</td>\n",
       "      <td>NaN</td>\n",
       "      <td>0</td>\n",
       "      <td>45000</td>\n",
       "      <td>33.0</td>\n",
       "      <td>3.0</td>\n",
       "    </tr>\n",
       "    <tr>\n",
       "      <th>3</th>\n",
       "      <td>Male</td>\n",
       "      <td>C10477</td>\n",
       "      <td>C</td>\n",
       "      <td>COM0004143</td>\n",
       "      <td>A</td>\n",
       "      <td>4.0</td>\n",
       "      <td>3500.0</td>\n",
       "      <td>B003</td>\n",
       "      <td>G</td>\n",
       "      <td>Y</td>\n",
       "      <td>S143</td>\n",
       "      <td>B</td>\n",
       "      <td>0.0</td>\n",
       "      <td>92000.0</td>\n",
       "      <td>5.0</td>\n",
       "      <td>NaN</td>\n",
       "      <td>NaN</td>\n",
       "      <td>7</td>\n",
       "      <td>92000</td>\n",
       "      <td>27.0</td>\n",
       "      <td>3.0</td>\n",
       "    </tr>\n",
       "    <tr>\n",
       "      <th>4</th>\n",
       "      <td>Male</td>\n",
       "      <td>C10002</td>\n",
       "      <td>A</td>\n",
       "      <td>COM0001781</td>\n",
       "      <td>A</td>\n",
       "      <td>4.0</td>\n",
       "      <td>10000.0</td>\n",
       "      <td>B001</td>\n",
       "      <td>P</td>\n",
       "      <td>Y</td>\n",
       "      <td>S134</td>\n",
       "      <td>B</td>\n",
       "      <td>2500.0</td>\n",
       "      <td>50000.0</td>\n",
       "      <td>2.0</td>\n",
       "      <td>NaN</td>\n",
       "      <td>NaN</td>\n",
       "      <td>10</td>\n",
       "      <td>50000</td>\n",
       "      <td>31.0</td>\n",
       "      <td>3.0</td>\n",
       "    </tr>\n",
       "  </tbody>\n",
       "</table>\n",
       "</div>"
      ],
      "text/plain": [
       "   Gender City_Code City_Category Employer_Code Employer_Category1  \\\n",
       "0  Female    C10001             A    COM0044082                  A   \n",
       "1    Male    C10003             A    COM0000002                  C   \n",
       "2    Male    C10125             C    COM0005267                  C   \n",
       "3    Male    C10477             C    COM0004143                  A   \n",
       "4    Male    C10002             A    COM0001781                  A   \n",
       "\n",
       "   Employer_Category2  Monthly_Income Customer_Existing_Primary_Bank_Code  \\\n",
       "0                 4.0          2000.0                                B001   \n",
       "1                 1.0          3500.0                                B002   \n",
       "2                 4.0          2250.0                                B003   \n",
       "3                 4.0          3500.0                                B003   \n",
       "4                 4.0         10000.0                                B001   \n",
       "\n",
       "  Primary_Bank_Type Contacted Source Source_Category  Existing_EMI  \\\n",
       "0                 P         N   S122               G           0.0   \n",
       "1                 P         Y   S122               G           0.0   \n",
       "2                 G         Y   S143               B           0.0   \n",
       "3                 G         Y   S143               B           0.0   \n",
       "4                 P         Y   S134               B        2500.0   \n",
       "\n",
       "   Loan_Amount  Loan_Period  Interest_Rate    EMI  Var1  loan_amt_cl   age  \\\n",
       "0          NaN          NaN            NaN    NaN     0            0  37.0   \n",
       "1      20000.0          2.0          13.25  953.0    10        20000  29.0   \n",
       "2      45000.0          4.0            NaN    NaN     0        45000  33.0   \n",
       "3      92000.0          5.0            NaN    NaN     7        92000  27.0   \n",
       "4      50000.0          2.0            NaN    NaN    10        50000  31.0   \n",
       "\n",
       "   lead_age  \n",
       "0       3.0  \n",
       "1       3.0  \n",
       "2       3.0  \n",
       "3       3.0  \n",
       "4       3.0  "
      ]
     },
     "execution_count": 80,
     "metadata": {},
     "output_type": "execute_result"
    }
   ],
   "source": [
    "X['age'] = (reference_date_dob - X.DOB).astype('timedelta64[Y]')\n",
    "X['lead_age']=(reference_date_lead - X.Lead_Creation_Date).astype('timedelta64[M]')\n",
    "\n",
    "X=X.drop(['DOB','Lead_Creation_Date'],axis=1)\n",
    "X.head()"
   ]
  },
  {
   "cell_type": "code",
   "execution_count": 81,
   "metadata": {},
   "outputs": [
    {
     "data": {
      "text/plain": [
       "Gender                                  object\n",
       "City_Code                               object\n",
       "City_Category                           object\n",
       "Employer_Code                           object\n",
       "Employer_Category1                      object\n",
       "Employer_Category2                     float64\n",
       "Monthly_Income                         float64\n",
       "Customer_Existing_Primary_Bank_Code     object\n",
       "Primary_Bank_Type                       object\n",
       "Contacted                               object\n",
       "Source                                  object\n",
       "Source_Category                         object\n",
       "Existing_EMI                           float64\n",
       "Loan_Amount                            float64\n",
       "Loan_Period                            float64\n",
       "Interest_Rate                          float64\n",
       "EMI                                    float64\n",
       "Var1                                     int64\n",
       "loan_amt_cl                              int64\n",
       "age                                    float64\n",
       "lead_age                               float64\n",
       "dtype: object"
      ]
     },
     "execution_count": 81,
     "metadata": {},
     "output_type": "execute_result"
    }
   ],
   "source": [
    "X.dtypes"
   ]
  },
  {
   "cell_type": "markdown",
   "metadata": {},
   "source": [
    "# Split features into Numerical and Categorical"
   ]
  },
  {
   "cell_type": "code",
   "execution_count": 82,
   "metadata": {},
   "outputs": [],
   "source": [
    "num=X.select_dtypes(include=\"number\")\n",
    "char=X.select_dtypes(include=\"object\")"
   ]
  },
  {
   "cell_type": "code",
   "execution_count": 83,
   "metadata": {
    "scrolled": true
   },
   "outputs": [
    {
     "data": {
      "text/plain": [
       "Employer_Category2    float64\n",
       "Monthly_Income        float64\n",
       "Existing_EMI          float64\n",
       "Loan_Amount           float64\n",
       "Loan_Period           float64\n",
       "Interest_Rate         float64\n",
       "EMI                   float64\n",
       "Var1                    int64\n",
       "loan_amt_cl             int64\n",
       "age                   float64\n",
       "lead_age              float64\n",
       "dtype: object"
      ]
     },
     "execution_count": 83,
     "metadata": {},
     "output_type": "execute_result"
    }
   ],
   "source": [
    "num.dtypes"
   ]
  },
  {
   "cell_type": "code",
   "execution_count": 84,
   "metadata": {},
   "outputs": [
    {
     "data": {
      "text/plain": [
       "Gender                                 object\n",
       "City_Code                              object\n",
       "City_Category                          object\n",
       "Employer_Code                          object\n",
       "Employer_Category1                     object\n",
       "Customer_Existing_Primary_Bank_Code    object\n",
       "Primary_Bank_Type                      object\n",
       "Contacted                              object\n",
       "Source                                 object\n",
       "Source_Category                        object\n",
       "dtype: object"
      ]
     },
     "execution_count": 84,
     "metadata": {},
     "output_type": "execute_result"
    }
   ],
   "source": [
    "char.dtypes"
   ]
  },
  {
   "cell_type": "code",
   "execution_count": 85,
   "metadata": {
    "scrolled": true
   },
   "outputs": [
    {
     "data": {
      "text/html": [
       "<div>\n",
       "<style scoped>\n",
       "    .dataframe tbody tr th:only-of-type {\n",
       "        vertical-align: middle;\n",
       "    }\n",
       "\n",
       "    .dataframe tbody tr th {\n",
       "        vertical-align: top;\n",
       "    }\n",
       "\n",
       "    .dataframe thead th {\n",
       "        text-align: right;\n",
       "    }\n",
       "</style>\n",
       "<table border=\"1\" class=\"dataframe\">\n",
       "  <thead>\n",
       "    <tr style=\"text-align: right;\">\n",
       "      <th></th>\n",
       "      <th>0</th>\n",
       "    </tr>\n",
       "  </thead>\n",
       "  <tbody>\n",
       "    <tr>\n",
       "      <th>Employer_Category2</th>\n",
       "      <td>4</td>\n",
       "    </tr>\n",
       "    <tr>\n",
       "      <th>Monthly_Income</th>\n",
       "      <td>5010</td>\n",
       "    </tr>\n",
       "    <tr>\n",
       "      <th>Existing_EMI</th>\n",
       "      <td>3245</td>\n",
       "    </tr>\n",
       "    <tr>\n",
       "      <th>Loan_Amount</th>\n",
       "      <td>196</td>\n",
       "    </tr>\n",
       "    <tr>\n",
       "      <th>Loan_Period</th>\n",
       "      <td>6</td>\n",
       "    </tr>\n",
       "    <tr>\n",
       "      <th>Interest_Rate</th>\n",
       "      <td>72</td>\n",
       "    </tr>\n",
       "    <tr>\n",
       "      <th>EMI</th>\n",
       "      <td>2179</td>\n",
       "    </tr>\n",
       "    <tr>\n",
       "      <th>Var1</th>\n",
       "      <td>5</td>\n",
       "    </tr>\n",
       "    <tr>\n",
       "      <th>loan_amt_cl</th>\n",
       "      <td>197</td>\n",
       "    </tr>\n",
       "    <tr>\n",
       "      <th>age</th>\n",
       "      <td>61</td>\n",
       "    </tr>\n",
       "    <tr>\n",
       "      <th>lead_age</th>\n",
       "      <td>4</td>\n",
       "    </tr>\n",
       "  </tbody>\n",
       "</table>\n",
       "</div>"
      ],
      "text/plain": [
       "                       0\n",
       "Employer_Category2     4\n",
       "Monthly_Income      5010\n",
       "Existing_EMI        3245\n",
       "Loan_Amount          196\n",
       "Loan_Period            6\n",
       "Interest_Rate         72\n",
       "EMI                 2179\n",
       "Var1                   5\n",
       "loan_amt_cl          197\n",
       "age                   61\n",
       "lead_age               4"
      ]
     },
     "execution_count": 85,
     "metadata": {},
     "output_type": "execute_result"
    }
   ],
   "source": [
    "def unique_levels(x):\n",
    "    x=x.value_counts().count()\n",
    "    return(x)\n",
    "df_value_counts=pd.DataFrame(num.apply(lambda x : unique_levels(x)))\n",
    "df_value_counts"
   ]
  },
  {
   "cell_type": "code",
   "execution_count": 86,
   "metadata": {},
   "outputs": [
    {
     "data": {
      "text/html": [
       "<div>\n",
       "<style scoped>\n",
       "    .dataframe tbody tr th:only-of-type {\n",
       "        vertical-align: middle;\n",
       "    }\n",
       "\n",
       "    .dataframe tbody tr th {\n",
       "        vertical-align: top;\n",
       "    }\n",
       "\n",
       "    .dataframe thead th {\n",
       "        text-align: right;\n",
       "    }\n",
       "</style>\n",
       "<table border=\"1\" class=\"dataframe\">\n",
       "  <thead>\n",
       "    <tr style=\"text-align: right;\">\n",
       "      <th></th>\n",
       "      <th>feature_levels</th>\n",
       "    </tr>\n",
       "  </thead>\n",
       "  <tbody>\n",
       "    <tr>\n",
       "      <th>Employer_Category2</th>\n",
       "      <td>4</td>\n",
       "    </tr>\n",
       "    <tr>\n",
       "      <th>Monthly_Income</th>\n",
       "      <td>5010</td>\n",
       "    </tr>\n",
       "    <tr>\n",
       "      <th>Existing_EMI</th>\n",
       "      <td>3245</td>\n",
       "    </tr>\n",
       "    <tr>\n",
       "      <th>Loan_Amount</th>\n",
       "      <td>196</td>\n",
       "    </tr>\n",
       "    <tr>\n",
       "      <th>Loan_Period</th>\n",
       "      <td>6</td>\n",
       "    </tr>\n",
       "    <tr>\n",
       "      <th>Interest_Rate</th>\n",
       "      <td>72</td>\n",
       "    </tr>\n",
       "    <tr>\n",
       "      <th>EMI</th>\n",
       "      <td>2179</td>\n",
       "    </tr>\n",
       "    <tr>\n",
       "      <th>Var1</th>\n",
       "      <td>5</td>\n",
       "    </tr>\n",
       "    <tr>\n",
       "      <th>loan_amt_cl</th>\n",
       "      <td>197</td>\n",
       "    </tr>\n",
       "    <tr>\n",
       "      <th>age</th>\n",
       "      <td>61</td>\n",
       "    </tr>\n",
       "    <tr>\n",
       "      <th>lead_age</th>\n",
       "      <td>4</td>\n",
       "    </tr>\n",
       "  </tbody>\n",
       "</table>\n",
       "</div>"
      ],
      "text/plain": [
       "                    feature_levels\n",
       "Employer_Category2               4\n",
       "Monthly_Income                5010\n",
       "Existing_EMI                  3245\n",
       "Loan_Amount                    196\n",
       "Loan_Period                      6\n",
       "Interest_Rate                   72\n",
       "EMI                           2179\n",
       "Var1                             5\n",
       "loan_amt_cl                    197\n",
       "age                             61\n",
       "lead_age                         4"
      ]
     },
     "execution_count": 86,
     "metadata": {},
     "output_type": "execute_result"
    }
   ],
   "source": [
    "df_value_counts.columns=['feature_levels']\n",
    "df_value_counts"
   ]
  },
  {
   "cell_type": "code",
   "execution_count": 87,
   "metadata": {},
   "outputs": [
    {
     "data": {
      "text/plain": [
       "Employer_Category2    float64\n",
       "Loan_Period           float64\n",
       "Var1                    int64\n",
       "lead_age              float64\n",
       "dtype: object"
      ]
     },
     "execution_count": 87,
     "metadata": {},
     "output_type": "execute_result"
    }
   ],
   "source": [
    "slice1=df_value_counts.loc[df_value_counts['feature_levels']<=20]\n",
    "cat_list=slice1.index\n",
    "cat=num.loc[:,cat_list]\n",
    "cat.dtypes"
   ]
  },
  {
   "cell_type": "code",
   "execution_count": 88,
   "metadata": {},
   "outputs": [],
   "source": [
    "slice2=df_value_counts.loc[df_value_counts['feature_levels']>20]\n",
    "num_list=slice2.index\n",
    "num=num.loc[:,num_list]"
   ]
  },
  {
   "cell_type": "code",
   "execution_count": 89,
   "metadata": {},
   "outputs": [],
   "source": [
    "char=pd.concat([char,cat],axis=1,join=\"inner\")"
   ]
  },
  {
   "cell_type": "code",
   "execution_count": 90,
   "metadata": {},
   "outputs": [
    {
     "data": {
      "text/html": [
       "<div>\n",
       "<style scoped>\n",
       "    .dataframe tbody tr th:only-of-type {\n",
       "        vertical-align: middle;\n",
       "    }\n",
       "\n",
       "    .dataframe tbody tr th {\n",
       "        vertical-align: top;\n",
       "    }\n",
       "\n",
       "    .dataframe thead th {\n",
       "        text-align: right;\n",
       "    }\n",
       "</style>\n",
       "<table border=\"1\" class=\"dataframe\">\n",
       "  <thead>\n",
       "    <tr style=\"text-align: right;\">\n",
       "      <th></th>\n",
       "      <th>Gender</th>\n",
       "      <th>City_Code</th>\n",
       "      <th>City_Category</th>\n",
       "      <th>Employer_Code</th>\n",
       "      <th>Employer_Category1</th>\n",
       "      <th>Customer_Existing_Primary_Bank_Code</th>\n",
       "      <th>Primary_Bank_Type</th>\n",
       "      <th>Contacted</th>\n",
       "      <th>Source</th>\n",
       "      <th>Source_Category</th>\n",
       "      <th>Employer_Category2</th>\n",
       "      <th>Loan_Period</th>\n",
       "      <th>Var1</th>\n",
       "      <th>lead_age</th>\n",
       "    </tr>\n",
       "  </thead>\n",
       "  <tbody>\n",
       "    <tr>\n",
       "      <th>0</th>\n",
       "      <td>Female</td>\n",
       "      <td>C10001</td>\n",
       "      <td>A</td>\n",
       "      <td>COM0044082</td>\n",
       "      <td>A</td>\n",
       "      <td>B001</td>\n",
       "      <td>P</td>\n",
       "      <td>N</td>\n",
       "      <td>S122</td>\n",
       "      <td>G</td>\n",
       "      <td>4.0</td>\n",
       "      <td>NaN</td>\n",
       "      <td>0</td>\n",
       "      <td>3.0</td>\n",
       "    </tr>\n",
       "    <tr>\n",
       "      <th>1</th>\n",
       "      <td>Male</td>\n",
       "      <td>C10003</td>\n",
       "      <td>A</td>\n",
       "      <td>COM0000002</td>\n",
       "      <td>C</td>\n",
       "      <td>B002</td>\n",
       "      <td>P</td>\n",
       "      <td>Y</td>\n",
       "      <td>S122</td>\n",
       "      <td>G</td>\n",
       "      <td>1.0</td>\n",
       "      <td>2.0</td>\n",
       "      <td>10</td>\n",
       "      <td>3.0</td>\n",
       "    </tr>\n",
       "    <tr>\n",
       "      <th>2</th>\n",
       "      <td>Male</td>\n",
       "      <td>C10125</td>\n",
       "      <td>C</td>\n",
       "      <td>COM0005267</td>\n",
       "      <td>C</td>\n",
       "      <td>B003</td>\n",
       "      <td>G</td>\n",
       "      <td>Y</td>\n",
       "      <td>S143</td>\n",
       "      <td>B</td>\n",
       "      <td>4.0</td>\n",
       "      <td>4.0</td>\n",
       "      <td>0</td>\n",
       "      <td>3.0</td>\n",
       "    </tr>\n",
       "    <tr>\n",
       "      <th>3</th>\n",
       "      <td>Male</td>\n",
       "      <td>C10477</td>\n",
       "      <td>C</td>\n",
       "      <td>COM0004143</td>\n",
       "      <td>A</td>\n",
       "      <td>B003</td>\n",
       "      <td>G</td>\n",
       "      <td>Y</td>\n",
       "      <td>S143</td>\n",
       "      <td>B</td>\n",
       "      <td>4.0</td>\n",
       "      <td>5.0</td>\n",
       "      <td>7</td>\n",
       "      <td>3.0</td>\n",
       "    </tr>\n",
       "    <tr>\n",
       "      <th>4</th>\n",
       "      <td>Male</td>\n",
       "      <td>C10002</td>\n",
       "      <td>A</td>\n",
       "      <td>COM0001781</td>\n",
       "      <td>A</td>\n",
       "      <td>B001</td>\n",
       "      <td>P</td>\n",
       "      <td>Y</td>\n",
       "      <td>S134</td>\n",
       "      <td>B</td>\n",
       "      <td>4.0</td>\n",
       "      <td>2.0</td>\n",
       "      <td>10</td>\n",
       "      <td>3.0</td>\n",
       "    </tr>\n",
       "  </tbody>\n",
       "</table>\n",
       "</div>"
      ],
      "text/plain": [
       "   Gender City_Code City_Category Employer_Code Employer_Category1  \\\n",
       "0  Female    C10001             A    COM0044082                  A   \n",
       "1    Male    C10003             A    COM0000002                  C   \n",
       "2    Male    C10125             C    COM0005267                  C   \n",
       "3    Male    C10477             C    COM0004143                  A   \n",
       "4    Male    C10002             A    COM0001781                  A   \n",
       "\n",
       "  Customer_Existing_Primary_Bank_Code Primary_Bank_Type Contacted Source  \\\n",
       "0                                B001                 P         N   S122   \n",
       "1                                B002                 P         Y   S122   \n",
       "2                                B003                 G         Y   S143   \n",
       "3                                B003                 G         Y   S143   \n",
       "4                                B001                 P         Y   S134   \n",
       "\n",
       "  Source_Category  Employer_Category2  Loan_Period  Var1  lead_age  \n",
       "0               G                 4.0          NaN     0       3.0  \n",
       "1               G                 1.0          2.0    10       3.0  \n",
       "2               B                 4.0          4.0     0       3.0  \n",
       "3               B                 4.0          5.0     7       3.0  \n",
       "4               B                 4.0          2.0    10       3.0  "
      ]
     },
     "execution_count": 90,
     "metadata": {},
     "output_type": "execute_result"
    }
   ],
   "source": [
    "char.head()"
   ]
  },
  {
   "cell_type": "code",
   "execution_count": 91,
   "metadata": {},
   "outputs": [
    {
     "data": {
      "text/html": [
       "<div>\n",
       "<style scoped>\n",
       "    .dataframe tbody tr th:only-of-type {\n",
       "        vertical-align: middle;\n",
       "    }\n",
       "\n",
       "    .dataframe tbody tr th {\n",
       "        vertical-align: top;\n",
       "    }\n",
       "\n",
       "    .dataframe thead th {\n",
       "        text-align: right;\n",
       "    }\n",
       "</style>\n",
       "<table border=\"1\" class=\"dataframe\">\n",
       "  <thead>\n",
       "    <tr style=\"text-align: right;\">\n",
       "      <th></th>\n",
       "      <th>Monthly_Income</th>\n",
       "      <th>Existing_EMI</th>\n",
       "      <th>Loan_Amount</th>\n",
       "      <th>Interest_Rate</th>\n",
       "      <th>EMI</th>\n",
       "      <th>loan_amt_cl</th>\n",
       "      <th>age</th>\n",
       "    </tr>\n",
       "  </thead>\n",
       "  <tbody>\n",
       "    <tr>\n",
       "      <th>0</th>\n",
       "      <td>2000.0</td>\n",
       "      <td>0.0</td>\n",
       "      <td>NaN</td>\n",
       "      <td>NaN</td>\n",
       "      <td>NaN</td>\n",
       "      <td>0</td>\n",
       "      <td>37.0</td>\n",
       "    </tr>\n",
       "    <tr>\n",
       "      <th>1</th>\n",
       "      <td>3500.0</td>\n",
       "      <td>0.0</td>\n",
       "      <td>20000.0</td>\n",
       "      <td>13.25</td>\n",
       "      <td>953.0</td>\n",
       "      <td>20000</td>\n",
       "      <td>29.0</td>\n",
       "    </tr>\n",
       "    <tr>\n",
       "      <th>2</th>\n",
       "      <td>2250.0</td>\n",
       "      <td>0.0</td>\n",
       "      <td>45000.0</td>\n",
       "      <td>NaN</td>\n",
       "      <td>NaN</td>\n",
       "      <td>45000</td>\n",
       "      <td>33.0</td>\n",
       "    </tr>\n",
       "    <tr>\n",
       "      <th>3</th>\n",
       "      <td>3500.0</td>\n",
       "      <td>0.0</td>\n",
       "      <td>92000.0</td>\n",
       "      <td>NaN</td>\n",
       "      <td>NaN</td>\n",
       "      <td>92000</td>\n",
       "      <td>27.0</td>\n",
       "    </tr>\n",
       "    <tr>\n",
       "      <th>4</th>\n",
       "      <td>10000.0</td>\n",
       "      <td>2500.0</td>\n",
       "      <td>50000.0</td>\n",
       "      <td>NaN</td>\n",
       "      <td>NaN</td>\n",
       "      <td>50000</td>\n",
       "      <td>31.0</td>\n",
       "    </tr>\n",
       "  </tbody>\n",
       "</table>\n",
       "</div>"
      ],
      "text/plain": [
       "   Monthly_Income  Existing_EMI  Loan_Amount  Interest_Rate    EMI  \\\n",
       "0          2000.0           0.0          NaN            NaN    NaN   \n",
       "1          3500.0           0.0      20000.0          13.25  953.0   \n",
       "2          2250.0           0.0      45000.0            NaN    NaN   \n",
       "3          3500.0           0.0      92000.0            NaN    NaN   \n",
       "4         10000.0        2500.0      50000.0            NaN    NaN   \n",
       "\n",
       "   loan_amt_cl   age  \n",
       "0            0  37.0  \n",
       "1        20000  29.0  \n",
       "2        45000  33.0  \n",
       "3        92000  27.0  \n",
       "4        50000  31.0  "
      ]
     },
     "execution_count": 91,
     "metadata": {},
     "output_type": "execute_result"
    }
   ],
   "source": [
    "num.head()"
   ]
  },
  {
   "cell_type": "markdown",
   "metadata": {},
   "source": [
    "# Outlier Analysis of Numerical Features"
   ]
  },
  {
   "cell_type": "code",
   "execution_count": 92,
   "metadata": {
    "scrolled": true
   },
   "outputs": [
    {
     "data": {
      "text/html": [
       "<div>\n",
       "<style scoped>\n",
       "    .dataframe tbody tr th:only-of-type {\n",
       "        vertical-align: middle;\n",
       "    }\n",
       "\n",
       "    .dataframe tbody tr th {\n",
       "        vertical-align: top;\n",
       "    }\n",
       "\n",
       "    .dataframe thead th {\n",
       "        text-align: right;\n",
       "    }\n",
       "</style>\n",
       "<table border=\"1\" class=\"dataframe\">\n",
       "  <thead>\n",
       "    <tr style=\"text-align: right;\">\n",
       "      <th></th>\n",
       "      <th>Monthly_Income</th>\n",
       "      <th>Existing_EMI</th>\n",
       "      <th>Loan_Amount</th>\n",
       "      <th>Interest_Rate</th>\n",
       "      <th>EMI</th>\n",
       "      <th>loan_amt_cl</th>\n",
       "      <th>age</th>\n",
       "    </tr>\n",
       "  </thead>\n",
       "  <tbody>\n",
       "    <tr>\n",
       "      <th>count</th>\n",
       "      <td>6.971300e+04</td>\n",
       "      <td>69662.000000</td>\n",
       "      <td>42004.000000</td>\n",
       "      <td>22276.000000</td>\n",
       "      <td>22276.000000</td>\n",
       "      <td>69713.000000</td>\n",
       "      <td>69698.000000</td>\n",
       "    </tr>\n",
       "    <tr>\n",
       "      <th>mean</th>\n",
       "      <td>5.622283e+03</td>\n",
       "      <td>360.928751</td>\n",
       "      <td>39429.982859</td>\n",
       "      <td>19.213570</td>\n",
       "      <td>1101.466242</td>\n",
       "      <td>23757.649219</td>\n",
       "      <td>30.601696</td>\n",
       "    </tr>\n",
       "    <tr>\n",
       "      <th>std</th>\n",
       "      <td>1.747671e+05</td>\n",
       "      <td>2288.517927</td>\n",
       "      <td>30727.595990</td>\n",
       "      <td>5.847136</td>\n",
       "      <td>752.661394</td>\n",
       "      <td>30679.558166</td>\n",
       "      <td>7.093660</td>\n",
       "    </tr>\n",
       "    <tr>\n",
       "      <th>min</th>\n",
       "      <td>0.000000e+00</td>\n",
       "      <td>0.000000</td>\n",
       "      <td>5000.000000</td>\n",
       "      <td>11.990000</td>\n",
       "      <td>118.000000</td>\n",
       "      <td>0.000000</td>\n",
       "      <td>17.000000</td>\n",
       "    </tr>\n",
       "    <tr>\n",
       "      <th>1%</th>\n",
       "      <td>2.841040e+02</td>\n",
       "      <td>0.000000</td>\n",
       "      <td>6000.000000</td>\n",
       "      <td>13.000000</td>\n",
       "      <td>241.000000</td>\n",
       "      <td>0.000000</td>\n",
       "      <td>20.000000</td>\n",
       "    </tr>\n",
       "    <tr>\n",
       "      <th>5%</th>\n",
       "      <td>1.000000e+03</td>\n",
       "      <td>0.000000</td>\n",
       "      <td>10000.000000</td>\n",
       "      <td>13.500000</td>\n",
       "      <td>344.000000</td>\n",
       "      <td>0.000000</td>\n",
       "      <td>22.000000</td>\n",
       "    </tr>\n",
       "    <tr>\n",
       "      <th>10%</th>\n",
       "      <td>1.200000e+03</td>\n",
       "      <td>0.000000</td>\n",
       "      <td>10000.000000</td>\n",
       "      <td>13.990000</td>\n",
       "      <td>409.000000</td>\n",
       "      <td>0.000000</td>\n",
       "      <td>24.000000</td>\n",
       "    </tr>\n",
       "    <tr>\n",
       "      <th>25%</th>\n",
       "      <td>1.650000e+03</td>\n",
       "      <td>0.000000</td>\n",
       "      <td>20000.000000</td>\n",
       "      <td>15.250000</td>\n",
       "      <td>649.000000</td>\n",
       "      <td>0.000000</td>\n",
       "      <td>26.000000</td>\n",
       "    </tr>\n",
       "    <tr>\n",
       "      <th>50%</th>\n",
       "      <td>2.500000e+03</td>\n",
       "      <td>0.000000</td>\n",
       "      <td>30000.000000</td>\n",
       "      <td>18.000000</td>\n",
       "      <td>941.000000</td>\n",
       "      <td>15000.000000</td>\n",
       "      <td>29.000000</td>\n",
       "    </tr>\n",
       "    <tr>\n",
       "      <th>75%</th>\n",
       "      <td>4.000000e+03</td>\n",
       "      <td>350.000000</td>\n",
       "      <td>50000.000000</td>\n",
       "      <td>20.000000</td>\n",
       "      <td>1295.000000</td>\n",
       "      <td>36000.000000</td>\n",
       "      <td>33.000000</td>\n",
       "    </tr>\n",
       "    <tr>\n",
       "      <th>85%</th>\n",
       "      <td>5.100000e+03</td>\n",
       "      <td>702.925000</td>\n",
       "      <td>60000.000000</td>\n",
       "      <td>27.000000</td>\n",
       "      <td>1616.000000</td>\n",
       "      <td>50000.000000</td>\n",
       "      <td>37.000000</td>\n",
       "    </tr>\n",
       "    <tr>\n",
       "      <th>90%</th>\n",
       "      <td>6.200000e+03</td>\n",
       "      <td>1000.000000</td>\n",
       "      <td>80000.000000</td>\n",
       "      <td>31.500000</td>\n",
       "      <td>1915.000000</td>\n",
       "      <td>56000.000000</td>\n",
       "      <td>40.000000</td>\n",
       "    </tr>\n",
       "    <tr>\n",
       "      <th>99%</th>\n",
       "      <td>2.500000e+04</td>\n",
       "      <td>4054.680000</td>\n",
       "      <td>150000.000000</td>\n",
       "      <td>37.000000</td>\n",
       "      <td>4082.000000</td>\n",
       "      <td>150000.000000</td>\n",
       "      <td>55.000000</td>\n",
       "    </tr>\n",
       "    <tr>\n",
       "      <th>max</th>\n",
       "      <td>3.838384e+07</td>\n",
       "      <td>545436.500000</td>\n",
       "      <td>300000.000000</td>\n",
       "      <td>37.000000</td>\n",
       "      <td>13556.000000</td>\n",
       "      <td>300000.000000</td>\n",
       "      <td>86.000000</td>\n",
       "    </tr>\n",
       "  </tbody>\n",
       "</table>\n",
       "</div>"
      ],
      "text/plain": [
       "       Monthly_Income   Existing_EMI    Loan_Amount  Interest_Rate  \\\n",
       "count    6.971300e+04   69662.000000   42004.000000   22276.000000   \n",
       "mean     5.622283e+03     360.928751   39429.982859      19.213570   \n",
       "std      1.747671e+05    2288.517927   30727.595990       5.847136   \n",
       "min      0.000000e+00       0.000000    5000.000000      11.990000   \n",
       "1%       2.841040e+02       0.000000    6000.000000      13.000000   \n",
       "5%       1.000000e+03       0.000000   10000.000000      13.500000   \n",
       "10%      1.200000e+03       0.000000   10000.000000      13.990000   \n",
       "25%      1.650000e+03       0.000000   20000.000000      15.250000   \n",
       "50%      2.500000e+03       0.000000   30000.000000      18.000000   \n",
       "75%      4.000000e+03     350.000000   50000.000000      20.000000   \n",
       "85%      5.100000e+03     702.925000   60000.000000      27.000000   \n",
       "90%      6.200000e+03    1000.000000   80000.000000      31.500000   \n",
       "99%      2.500000e+04    4054.680000  150000.000000      37.000000   \n",
       "max      3.838384e+07  545436.500000  300000.000000      37.000000   \n",
       "\n",
       "                EMI    loan_amt_cl           age  \n",
       "count  22276.000000   69713.000000  69698.000000  \n",
       "mean    1101.466242   23757.649219     30.601696  \n",
       "std      752.661394   30679.558166      7.093660  \n",
       "min      118.000000       0.000000     17.000000  \n",
       "1%       241.000000       0.000000     20.000000  \n",
       "5%       344.000000       0.000000     22.000000  \n",
       "10%      409.000000       0.000000     24.000000  \n",
       "25%      649.000000       0.000000     26.000000  \n",
       "50%      941.000000   15000.000000     29.000000  \n",
       "75%     1295.000000   36000.000000     33.000000  \n",
       "85%     1616.000000   50000.000000     37.000000  \n",
       "90%     1915.000000   56000.000000     40.000000  \n",
       "99%     4082.000000  150000.000000     55.000000  \n",
       "max    13556.000000  300000.000000     86.000000  "
      ]
     },
     "execution_count": 92,
     "metadata": {},
     "output_type": "execute_result"
    }
   ],
   "source": [
    "num.describe(percentiles=[0.01,0.05,0.10,0.25,0.50,0.75,0.85,0.9,0.99])"
   ]
  },
  {
   "cell_type": "markdown",
   "metadata": {},
   "source": [
    "# Capping and Flooring of outliers"
   ]
  },
  {
   "cell_type": "code",
   "execution_count": 93,
   "metadata": {},
   "outputs": [],
   "source": [
    "def outlier_cap(x):\n",
    "    x=x.clip(lower=x.quantile(0.01))\n",
    "    x=x.clip(upper=x.quantile(0.99))\n",
    "    return(x)"
   ]
  },
  {
   "cell_type": "code",
   "execution_count": 94,
   "metadata": {},
   "outputs": [],
   "source": [
    "num=num.apply(lambda x : outlier_cap(x))"
   ]
  },
  {
   "cell_type": "code",
   "execution_count": 95,
   "metadata": {
    "scrolled": false
   },
   "outputs": [
    {
     "data": {
      "text/html": [
       "<div>\n",
       "<style scoped>\n",
       "    .dataframe tbody tr th:only-of-type {\n",
       "        vertical-align: middle;\n",
       "    }\n",
       "\n",
       "    .dataframe tbody tr th {\n",
       "        vertical-align: top;\n",
       "    }\n",
       "\n",
       "    .dataframe thead th {\n",
       "        text-align: right;\n",
       "    }\n",
       "</style>\n",
       "<table border=\"1\" class=\"dataframe\">\n",
       "  <thead>\n",
       "    <tr style=\"text-align: right;\">\n",
       "      <th></th>\n",
       "      <th>Monthly_Income</th>\n",
       "      <th>Existing_EMI</th>\n",
       "      <th>Loan_Amount</th>\n",
       "      <th>Interest_Rate</th>\n",
       "      <th>EMI</th>\n",
       "      <th>loan_amt_cl</th>\n",
       "      <th>age</th>\n",
       "    </tr>\n",
       "  </thead>\n",
       "  <tbody>\n",
       "    <tr>\n",
       "      <th>count</th>\n",
       "      <td>69713.000000</td>\n",
       "      <td>69662.000000</td>\n",
       "      <td>42004.000000</td>\n",
       "      <td>22276.000000</td>\n",
       "      <td>22276.000000</td>\n",
       "      <td>69713.000000</td>\n",
       "      <td>69698.000000</td>\n",
       "    </tr>\n",
       "    <tr>\n",
       "      <th>mean</th>\n",
       "      <td>3482.197794</td>\n",
       "      <td>326.587792</td>\n",
       "      <td>39172.578802</td>\n",
       "      <td>19.216630</td>\n",
       "      <td>1094.206949</td>\n",
       "      <td>23598.654483</td>\n",
       "      <td>30.574665</td>\n",
       "    </tr>\n",
       "    <tr>\n",
       "      <th>std</th>\n",
       "      <td>3540.702844</td>\n",
       "      <td>719.307635</td>\n",
       "      <td>29425.102041</td>\n",
       "      <td>5.843624</td>\n",
       "      <td>708.555001</td>\n",
       "      <td>29821.540909</td>\n",
       "      <td>6.946104</td>\n",
       "    </tr>\n",
       "    <tr>\n",
       "      <th>min</th>\n",
       "      <td>284.104000</td>\n",
       "      <td>0.000000</td>\n",
       "      <td>6000.000000</td>\n",
       "      <td>13.000000</td>\n",
       "      <td>241.000000</td>\n",
       "      <td>0.000000</td>\n",
       "      <td>20.000000</td>\n",
       "    </tr>\n",
       "    <tr>\n",
       "      <th>1%</th>\n",
       "      <td>284.811520</td>\n",
       "      <td>0.000000</td>\n",
       "      <td>6000.000000</td>\n",
       "      <td>13.000000</td>\n",
       "      <td>241.000000</td>\n",
       "      <td>0.000000</td>\n",
       "      <td>20.000000</td>\n",
       "    </tr>\n",
       "    <tr>\n",
       "      <th>5%</th>\n",
       "      <td>1000.000000</td>\n",
       "      <td>0.000000</td>\n",
       "      <td>10000.000000</td>\n",
       "      <td>13.500000</td>\n",
       "      <td>344.000000</td>\n",
       "      <td>0.000000</td>\n",
       "      <td>22.000000</td>\n",
       "    </tr>\n",
       "    <tr>\n",
       "      <th>10%</th>\n",
       "      <td>1200.000000</td>\n",
       "      <td>0.000000</td>\n",
       "      <td>10000.000000</td>\n",
       "      <td>13.990000</td>\n",
       "      <td>409.000000</td>\n",
       "      <td>0.000000</td>\n",
       "      <td>24.000000</td>\n",
       "    </tr>\n",
       "    <tr>\n",
       "      <th>25%</th>\n",
       "      <td>1650.000000</td>\n",
       "      <td>0.000000</td>\n",
       "      <td>20000.000000</td>\n",
       "      <td>15.250000</td>\n",
       "      <td>649.000000</td>\n",
       "      <td>0.000000</td>\n",
       "      <td>26.000000</td>\n",
       "    </tr>\n",
       "    <tr>\n",
       "      <th>50%</th>\n",
       "      <td>2500.000000</td>\n",
       "      <td>0.000000</td>\n",
       "      <td>30000.000000</td>\n",
       "      <td>18.000000</td>\n",
       "      <td>941.000000</td>\n",
       "      <td>15000.000000</td>\n",
       "      <td>29.000000</td>\n",
       "    </tr>\n",
       "    <tr>\n",
       "      <th>75%</th>\n",
       "      <td>4000.000000</td>\n",
       "      <td>350.000000</td>\n",
       "      <td>50000.000000</td>\n",
       "      <td>20.000000</td>\n",
       "      <td>1295.000000</td>\n",
       "      <td>36000.000000</td>\n",
       "      <td>33.000000</td>\n",
       "    </tr>\n",
       "    <tr>\n",
       "      <th>85%</th>\n",
       "      <td>5100.000000</td>\n",
       "      <td>702.925000</td>\n",
       "      <td>60000.000000</td>\n",
       "      <td>27.000000</td>\n",
       "      <td>1616.000000</td>\n",
       "      <td>50000.000000</td>\n",
       "      <td>37.000000</td>\n",
       "    </tr>\n",
       "    <tr>\n",
       "      <th>90%</th>\n",
       "      <td>6200.000000</td>\n",
       "      <td>1000.000000</td>\n",
       "      <td>80000.000000</td>\n",
       "      <td>31.500000</td>\n",
       "      <td>1915.000000</td>\n",
       "      <td>56000.000000</td>\n",
       "      <td>40.000000</td>\n",
       "    </tr>\n",
       "    <tr>\n",
       "      <th>99%</th>\n",
       "      <td>25000.000000</td>\n",
       "      <td>4051.825200</td>\n",
       "      <td>150000.000000</td>\n",
       "      <td>37.000000</td>\n",
       "      <td>4082.000000</td>\n",
       "      <td>150000.000000</td>\n",
       "      <td>55.000000</td>\n",
       "    </tr>\n",
       "    <tr>\n",
       "      <th>max</th>\n",
       "      <td>25000.000000</td>\n",
       "      <td>4054.680000</td>\n",
       "      <td>150000.000000</td>\n",
       "      <td>37.000000</td>\n",
       "      <td>4082.000000</td>\n",
       "      <td>150000.000000</td>\n",
       "      <td>55.000000</td>\n",
       "    </tr>\n",
       "  </tbody>\n",
       "</table>\n",
       "</div>"
      ],
      "text/plain": [
       "       Monthly_Income  Existing_EMI    Loan_Amount  Interest_Rate  \\\n",
       "count    69713.000000  69662.000000   42004.000000   22276.000000   \n",
       "mean      3482.197794    326.587792   39172.578802      19.216630   \n",
       "std       3540.702844    719.307635   29425.102041       5.843624   \n",
       "min        284.104000      0.000000    6000.000000      13.000000   \n",
       "1%         284.811520      0.000000    6000.000000      13.000000   \n",
       "5%        1000.000000      0.000000   10000.000000      13.500000   \n",
       "10%       1200.000000      0.000000   10000.000000      13.990000   \n",
       "25%       1650.000000      0.000000   20000.000000      15.250000   \n",
       "50%       2500.000000      0.000000   30000.000000      18.000000   \n",
       "75%       4000.000000    350.000000   50000.000000      20.000000   \n",
       "85%       5100.000000    702.925000   60000.000000      27.000000   \n",
       "90%       6200.000000   1000.000000   80000.000000      31.500000   \n",
       "99%      25000.000000   4051.825200  150000.000000      37.000000   \n",
       "max      25000.000000   4054.680000  150000.000000      37.000000   \n",
       "\n",
       "                EMI    loan_amt_cl           age  \n",
       "count  22276.000000   69713.000000  69698.000000  \n",
       "mean    1094.206949   23598.654483     30.574665  \n",
       "std      708.555001   29821.540909      6.946104  \n",
       "min      241.000000       0.000000     20.000000  \n",
       "1%       241.000000       0.000000     20.000000  \n",
       "5%       344.000000       0.000000     22.000000  \n",
       "10%      409.000000       0.000000     24.000000  \n",
       "25%      649.000000       0.000000     26.000000  \n",
       "50%      941.000000   15000.000000     29.000000  \n",
       "75%     1295.000000   36000.000000     33.000000  \n",
       "85%     1616.000000   50000.000000     37.000000  \n",
       "90%     1915.000000   56000.000000     40.000000  \n",
       "99%     4082.000000  150000.000000     55.000000  \n",
       "max     4082.000000  150000.000000     55.000000  "
      ]
     },
     "execution_count": 95,
     "metadata": {},
     "output_type": "execute_result"
    }
   ],
   "source": [
    "num.describe(percentiles=[0.01,0.05,0.10,0.25,0.50,0.75,0.85,0.9,0.99])"
   ]
  },
  {
   "cell_type": "markdown",
   "metadata": {},
   "source": [
    "# Missing Value Analysis"
   ]
  },
  {
   "cell_type": "code",
   "execution_count": 96,
   "metadata": {
    "scrolled": true
   },
   "outputs": [
    {
     "data": {
      "text/plain": [
       "Monthly_Income    0.000000\n",
       "Existing_EMI      0.000732\n",
       "Loan_Amount       0.397472\n",
       "Interest_Rate     0.680461\n",
       "EMI               0.680461\n",
       "loan_amt_cl       0.000000\n",
       "age               0.000215\n",
       "dtype: float64"
      ]
     },
     "execution_count": 96,
     "metadata": {},
     "output_type": "execute_result"
    }
   ],
   "source": [
    "num.isnull().mean()"
   ]
  },
  {
   "cell_type": "code",
   "execution_count": 97,
   "metadata": {},
   "outputs": [],
   "source": [
    "num = num.loc[:,num.isnull().mean() <= .25]"
   ]
  },
  {
   "cell_type": "code",
   "execution_count": 98,
   "metadata": {
    "scrolled": false
   },
   "outputs": [],
   "source": [
    "from sklearn.impute import SimpleImputer\n",
    "imputer = SimpleImputer(missing_values=np.nan, strategy='mean')\n",
    "num_1=pd.DataFrame(imputer.fit_transform(num),index=num.index,columns=num.columns)"
   ]
  },
  {
   "cell_type": "code",
   "execution_count": 99,
   "metadata": {},
   "outputs": [
    {
     "data": {
      "text/plain": [
       "Monthly_Income    0.0\n",
       "Existing_EMI      0.0\n",
       "loan_amt_cl       0.0\n",
       "age               0.0\n",
       "dtype: float64"
      ]
     },
     "execution_count": 99,
     "metadata": {},
     "output_type": "execute_result"
    }
   ],
   "source": [
    "num_1.isnull().mean()"
   ]
  },
  {
   "cell_type": "code",
   "execution_count": 100,
   "metadata": {
    "scrolled": true
   },
   "outputs": [
    {
     "data": {
      "text/plain": [
       "Gender                                 0.000000\n",
       "City_Code                              0.011676\n",
       "City_Category                          0.011676\n",
       "Employer_Code                          0.057636\n",
       "Employer_Category1                     0.057636\n",
       "Customer_Existing_Primary_Bank_Code    0.134709\n",
       "Primary_Bank_Type                      0.134709\n",
       "Contacted                              0.000000\n",
       "Source                                 0.000000\n",
       "Source_Category                        0.000000\n",
       "Employer_Category2                     0.061653\n",
       "Loan_Period                            0.397472\n",
       "Var1                                   0.000000\n",
       "lead_age                               0.000000\n",
       "dtype: float64"
      ]
     },
     "execution_count": 100,
     "metadata": {},
     "output_type": "execute_result"
    }
   ],
   "source": [
    "char.isnull().mean()"
   ]
  },
  {
   "cell_type": "code",
   "execution_count": 101,
   "metadata": {},
   "outputs": [],
   "source": [
    "char = char.loc[:,char.isnull().mean() <= .25]"
   ]
  },
  {
   "cell_type": "code",
   "execution_count": 102,
   "metadata": {},
   "outputs": [
    {
     "data": {
      "text/html": [
       "<div>\n",
       "<style scoped>\n",
       "    .dataframe tbody tr th:only-of-type {\n",
       "        vertical-align: middle;\n",
       "    }\n",
       "\n",
       "    .dataframe tbody tr th {\n",
       "        vertical-align: top;\n",
       "    }\n",
       "\n",
       "    .dataframe thead th {\n",
       "        text-align: right;\n",
       "    }\n",
       "</style>\n",
       "<table border=\"1\" class=\"dataframe\">\n",
       "  <thead>\n",
       "    <tr style=\"text-align: right;\">\n",
       "      <th></th>\n",
       "      <th>0</th>\n",
       "    </tr>\n",
       "  </thead>\n",
       "  <tbody>\n",
       "    <tr>\n",
       "      <th>Gender</th>\n",
       "      <td>2</td>\n",
       "    </tr>\n",
       "    <tr>\n",
       "      <th>City_Code</th>\n",
       "      <td>678</td>\n",
       "    </tr>\n",
       "    <tr>\n",
       "      <th>City_Category</th>\n",
       "      <td>3</td>\n",
       "    </tr>\n",
       "    <tr>\n",
       "      <th>Employer_Code</th>\n",
       "      <td>36617</td>\n",
       "    </tr>\n",
       "    <tr>\n",
       "      <th>Employer_Category1</th>\n",
       "      <td>3</td>\n",
       "    </tr>\n",
       "    <tr>\n",
       "      <th>Customer_Existing_Primary_Bank_Code</th>\n",
       "      <td>57</td>\n",
       "    </tr>\n",
       "    <tr>\n",
       "      <th>Primary_Bank_Type</th>\n",
       "      <td>2</td>\n",
       "    </tr>\n",
       "    <tr>\n",
       "      <th>Contacted</th>\n",
       "      <td>2</td>\n",
       "    </tr>\n",
       "    <tr>\n",
       "      <th>Source</th>\n",
       "      <td>29</td>\n",
       "    </tr>\n",
       "    <tr>\n",
       "      <th>Source_Category</th>\n",
       "      <td>7</td>\n",
       "    </tr>\n",
       "    <tr>\n",
       "      <th>Employer_Category2</th>\n",
       "      <td>4</td>\n",
       "    </tr>\n",
       "    <tr>\n",
       "      <th>Var1</th>\n",
       "      <td>5</td>\n",
       "    </tr>\n",
       "    <tr>\n",
       "      <th>lead_age</th>\n",
       "      <td>4</td>\n",
       "    </tr>\n",
       "  </tbody>\n",
       "</table>\n",
       "</div>"
      ],
      "text/plain": [
       "                                         0\n",
       "Gender                                   2\n",
       "City_Code                              678\n",
       "City_Category                            3\n",
       "Employer_Code                        36617\n",
       "Employer_Category1                       3\n",
       "Customer_Existing_Primary_Bank_Code     57\n",
       "Primary_Bank_Type                        2\n",
       "Contacted                                2\n",
       "Source                                  29\n",
       "Source_Category                          7\n",
       "Employer_Category2                       4\n",
       "Var1                                     5\n",
       "lead_age                                 4"
      ]
     },
     "execution_count": 102,
     "metadata": {},
     "output_type": "execute_result"
    }
   ],
   "source": [
    "def unique_levels(x):\n",
    "    x=x.value_counts().count()\n",
    "    return(x)\n",
    "char_value_counts=pd.DataFrame(char.apply(lambda x : unique_levels(x)))\n",
    "char_value_counts"
   ]
  },
  {
   "cell_type": "code",
   "execution_count": 103,
   "metadata": {},
   "outputs": [],
   "source": [
    "char=char.drop(['City_Code','Employer_Code'],axis=1)"
   ]
  },
  {
   "cell_type": "code",
   "execution_count": 146,
   "metadata": {},
   "outputs": [],
   "source": [
    "from sklearn.impute import SimpleImputer\n",
    "imputer = SimpleImputer(missing_values=np.nan, strategy='most_frequent')\n",
    "char_1=pd.DataFrame(imputer.fit_transform(char),index=char.index,columns=char.columns)"
   ]
  },
  {
   "cell_type": "code",
   "execution_count": 105,
   "metadata": {},
   "outputs": [
    {
     "data": {
      "text/plain": [
       "Gender                                 0.0\n",
       "City_Category                          0.0\n",
       "Employer_Category1                     0.0\n",
       "Customer_Existing_Primary_Bank_Code    0.0\n",
       "Primary_Bank_Type                      0.0\n",
       "Contacted                              0.0\n",
       "Source                                 0.0\n",
       "Source_Category                        0.0\n",
       "Employer_Category2                     0.0\n",
       "Var1                                   0.0\n",
       "lead_age                               0.0\n",
       "dtype: float64"
      ]
     },
     "execution_count": 105,
     "metadata": {},
     "output_type": "execute_result"
    }
   ],
   "source": [
    "char_1.isnull().mean()"
   ]
  },
  {
   "cell_type": "markdown",
   "metadata": {},
   "source": [
    "# Feature Selection - Numerical Features "
   ]
  },
  {
   "cell_type": "markdown",
   "metadata": {},
   "source": [
    "# Part 1 : Remove Features with 0 Variance"
   ]
  },
  {
   "cell_type": "code",
   "execution_count": 106,
   "metadata": {},
   "outputs": [],
   "source": [
    "from sklearn.feature_selection import VarianceThreshold\n",
    "\n",
    "varselector= VarianceThreshold(threshold=0)\n",
    "varselector.fit_transform(num_1)\n",
    "# Get columns to keep and create new dataframe with those only\n",
    "cols = varselector.get_support(indices=True)\n",
    "num_1 = num_1.iloc[:,cols]"
   ]
  },
  {
   "cell_type": "code",
   "execution_count": 107,
   "metadata": {
    "scrolled": true
   },
   "outputs": [
    {
     "data": {
      "text/plain": [
       "Monthly_Income    2000.0\n",
       "Existing_EMI         0.0\n",
       "loan_amt_cl          0.0\n",
       "age                 37.0\n",
       "Name: 0, dtype: float64"
      ]
     },
     "execution_count": 107,
     "metadata": {},
     "output_type": "execute_result"
    }
   ],
   "source": [
    "num_1.iloc[0]"
   ]
  },
  {
   "cell_type": "code",
   "execution_count": null,
   "metadata": {},
   "outputs": [],
   "source": [
    "num_1.isnull().sum()"
   ]
  },
  {
   "cell_type": "markdown",
   "metadata": {},
   "source": [
    "# Part 2 - Bi Variate Analysis (Feature Discretization)"
   ]
  },
  {
   "cell_type": "code",
   "execution_count": 108,
   "metadata": {
    "scrolled": false
   },
   "outputs": [
    {
     "data": {
      "text/html": [
       "<div>\n",
       "<style scoped>\n",
       "    .dataframe tbody tr th:only-of-type {\n",
       "        vertical-align: middle;\n",
       "    }\n",
       "\n",
       "    .dataframe tbody tr th {\n",
       "        vertical-align: top;\n",
       "    }\n",
       "\n",
       "    .dataframe thead th {\n",
       "        text-align: right;\n",
       "    }\n",
       "</style>\n",
       "<table border=\"1\" class=\"dataframe\">\n",
       "  <thead>\n",
       "    <tr style=\"text-align: right;\">\n",
       "      <th></th>\n",
       "      <th>Monthly_Income_Rank</th>\n",
       "      <th>Existing_EMI_Rank</th>\n",
       "      <th>loan_amt_cl_Rank</th>\n",
       "      <th>age_Rank</th>\n",
       "    </tr>\n",
       "  </thead>\n",
       "  <tbody>\n",
       "    <tr>\n",
       "      <th>0</th>\n",
       "      <td>3.0</td>\n",
       "      <td>0.0</td>\n",
       "      <td>0.0</td>\n",
       "      <td>8.0</td>\n",
       "    </tr>\n",
       "    <tr>\n",
       "      <th>1</th>\n",
       "      <td>7.0</td>\n",
       "      <td>0.0</td>\n",
       "      <td>2.0</td>\n",
       "      <td>5.0</td>\n",
       "    </tr>\n",
       "    <tr>\n",
       "      <th>2</th>\n",
       "      <td>4.0</td>\n",
       "      <td>0.0</td>\n",
       "      <td>5.0</td>\n",
       "      <td>7.0</td>\n",
       "    </tr>\n",
       "    <tr>\n",
       "      <th>3</th>\n",
       "      <td>7.0</td>\n",
       "      <td>0.0</td>\n",
       "      <td>6.0</td>\n",
       "      <td>3.0</td>\n",
       "    </tr>\n",
       "    <tr>\n",
       "      <th>4</th>\n",
       "      <td>9.0</td>\n",
       "      <td>3.0</td>\n",
       "      <td>5.0</td>\n",
       "      <td>6.0</td>\n",
       "    </tr>\n",
       "  </tbody>\n",
       "</table>\n",
       "</div>"
      ],
      "text/plain": [
       "   Monthly_Income_Rank  Existing_EMI_Rank  loan_amt_cl_Rank  age_Rank\n",
       "0                  3.0                0.0               0.0       8.0\n",
       "1                  7.0                0.0               2.0       5.0\n",
       "2                  4.0                0.0               5.0       7.0\n",
       "3                  7.0                0.0               6.0       3.0\n",
       "4                  9.0                3.0               5.0       6.0"
      ]
     },
     "execution_count": 108,
     "metadata": {},
     "output_type": "execute_result"
    }
   ],
   "source": [
    "from sklearn.preprocessing import KBinsDiscretizer\n",
    "discrete=KBinsDiscretizer(n_bins=10,encode='ordinal', strategy='quantile')\n",
    "num_binned=pd.DataFrame(discrete.fit_transform(num_1),index=num_1.index, columns=num_1.columns).add_suffix('_Rank')\n",
    "num_binned.head()"
   ]
  },
  {
   "cell_type": "code",
   "execution_count": 109,
   "metadata": {
    "scrolled": true
   },
   "outputs": [
    {
     "data": {
      "image/png": "[encoded data removed]",
      "text/plain": [
       "<Figure size 432x288 with 1 Axes>"
      ]
     },
     "metadata": {},
     "output_type": "display_data"
    },
    {
     "data": {
      "image/png": "[encoded data removed]",
      "text/plain": [
       "<Figure size 432x288 with 1 Axes>"
      ]
     },
     "metadata": {},
     "output_type": "display_data"
    },
    {
     "data": {
      "image/png": "[encoded data removed]",
      "text/plain": [
       "<Figure size 432x288 with 1 Axes>"
      ]
     },
     "metadata": {},
     "output_type": "display_data"
    },
    {
     "data": {
      "image/png": "[encoded data removed]",
      "text/plain": [
       "<Figure size 432x288 with 1 Axes>"
      ]
     },
     "metadata": {},
     "output_type": "display_data"
    }
   ],
   "source": [
    "#Check if the features show a slope at all\n",
    "#If they do, then do you see some deciles below the population average and some higher than population average?\n",
    "#If that is the case then the slope will be strong\n",
    "#Conclusion: A strong slope is indicative of the features' ability to discriminate the event from non event\n",
    "#            making it a good predictor\n",
    "\n",
    "\n",
    "X_bin_combined=pd.concat([Y,num_binned],axis=1,join='inner')\n",
    "\n",
    "from numpy import mean\n",
    "for col in (num_binned.columns):\n",
    "    plt.figure()\n",
    "    sns.lineplot(x=col,y=X_bin_combined['Approved'].mean(),data=X_bin_combined)\n",
    "    sns.barplot(x=col, y=\"Approved\",data=X_bin_combined, estimator=mean )\n",
    "plt.show()"
   ]
  },
  {
   "cell_type": "code",
   "execution_count": 110,
   "metadata": {},
   "outputs": [],
   "source": [
    "# All features from num_1 will get selected due to good discrimination power by all of them\n",
    "select_features_df_num=num_1"
   ]
  },
  {
   "cell_type": "code",
   "execution_count": 111,
   "metadata": {},
   "outputs": [
    {
     "data": {
      "text/plain": [
       "(69713, 4)"
      ]
     },
     "execution_count": 111,
     "metadata": {},
     "output_type": "execute_result"
    }
   ],
   "source": [
    "select_features_df_num.shape"
   ]
  },
  {
   "cell_type": "markdown",
   "metadata": {},
   "source": [
    "# Feature Selection - Categorical Features "
   ]
  },
  {
   "cell_type": "markdown",
   "metadata": {},
   "source": [
    "# Part 1 - Bi Variate Analysis"
   ]
  },
  {
   "cell_type": "code",
   "execution_count": 112,
   "metadata": {},
   "outputs": [
    {
     "data": {
      "image/png": "[encoded data removed]",
      "text/plain": [
       "<Figure size 432x288 with 1 Axes>"
      ]
     },
     "metadata": {},
     "output_type": "display_data"
    },
    {
     "data": {
      "image/png": "[encoded data removed]",
      "text/plain": [
       "<Figure size 432x288 with 1 Axes>"
      ]
     },
     "metadata": {},
     "output_type": "display_data"
    },
    {
     "data": {
      "image/png": "[encoded data removed]",
      "text/plain": [
       "<Figure size 432x288 with 1 Axes>"
      ]
     },
     "metadata": {},
     "output_type": "display_data"
    },
    {
     "data": {
      "image/png": "[encoded data removed]",
      "text/plain": [
       "<Figure size 432x288 with 1 Axes>"
      ]
     },
     "metadata": {},
     "output_type": "display_data"
    },
    {
     "data": {
      "image/png": "[encoded data removed]",
      "text/plain": [
       "<Figure size 432x288 with 1 Axes>"
      ]
     },
     "metadata": {},
     "output_type": "display_data"
    },
    {
     "data": {
      "image/png": "[encoded data removed]",
      "text/plain": [
       "<Figure size 432x288 with 1 Axes>"
      ]
     },
     "metadata": {},
     "output_type": "display_data"
    },
    {
     "data": {
      "image/png": "[encoded data removed]",
      "text/plain": [
       "<Figure size 432x288 with 1 Axes>"
      ]
     },
     "metadata": {},
     "output_type": "display_data"
    },
    {
     "data": {
      "image/png": "[encoded data removed]",
      "text/plain": [
       "<Figure size 432x288 with 1 Axes>"
      ]
     },
     "metadata": {},
     "output_type": "display_data"
    },
    {
     "data": {
      "image/png": "[encoded data removed]",
      "text/plain": [
       "<Figure size 432x288 with 1 Axes>"
      ]
     },
     "metadata": {},
     "output_type": "display_data"
    },
    {
     "data": {
      "image/png": "[encoded data removed]",
      "text/plain": [
       "<Figure size 432x288 with 1 Axes>"
      ]
     },
     "metadata": {},
     "output_type": "display_data"
    },
    {
     "data": {
      "image/png": "[encoded data removed]",
      "text/plain": [
       "<Figure size 432x288 with 1 Axes>"
      ]
     },
     "metadata": {},
     "output_type": "display_data"
    }
   ],
   "source": [
    "import matplotlib.pyplot as plt\n",
    "import seaborn as sns\n",
    "X_char_merged=pd.concat([Y,char_1],axis=1,join='inner')\n",
    "\n",
    "from numpy import mean\n",
    "for col in (char.columns):\n",
    "    plt.figure()\n",
    "    sns.lineplot(x=col,y=X_char_merged['Approved'].mean(),data=X_char_merged)\n",
    "    sns.barplot(x=col, y=\"Approved\",data=X_char_merged, estimator=mean )\n",
    "plt.show()"
   ]
  },
  {
   "cell_type": "code",
   "execution_count": 113,
   "metadata": {},
   "outputs": [],
   "source": [
    "#char_1=char_1.drop(['Source','Customer_Existing_Primary_Bank_Code'],axis=1)"
   ]
  },
  {
   "cell_type": "code",
   "execution_count": 147,
   "metadata": {},
   "outputs": [
    {
     "data": {
      "text/plain": [
       "(69713, 107)"
      ]
     },
     "execution_count": 147,
     "metadata": {},
     "output_type": "execute_result"
    }
   ],
   "source": [
    "# Create dummy features with n-1 levels\n",
    "X_char_dum = pd.get_dummies(char_1, drop_first = True)\n",
    "X_char_dum.shape"
   ]
  },
  {
   "cell_type": "markdown",
   "metadata": {},
   "source": [
    "# Part 2 - Select K Best"
   ]
  },
  {
   "cell_type": "code",
   "execution_count": 148,
   "metadata": {},
   "outputs": [],
   "source": [
    "# Select K Best for Categorical Features\n",
    "from sklearn.feature_selection import SelectKBest, chi2\n",
    "selector = SelectKBest(chi2, k=105)\n",
    "selector.fit_transform(X_char_dum, Y)\n",
    "# Get columns to keep and create new dataframe with those only\n",
    "cols = selector.get_support(indices=True)\n",
    "select_features_df_char = X_char_dum.iloc[:,cols]"
   ]
  },
  {
   "cell_type": "code",
   "execution_count": 149,
   "metadata": {
    "scrolled": true
   },
   "outputs": [],
   "source": [
    "select_features_df_char=X_char_dum"
   ]
  },
  {
   "cell_type": "markdown",
   "metadata": {},
   "source": [
    "# Creating the Master Feature Set for Model Development"
   ]
  },
  {
   "cell_type": "code",
   "execution_count": 150,
   "metadata": {},
   "outputs": [],
   "source": [
    "X_all=pd.concat([select_features_df_char,select_features_df_num],axis=1,join=\"inner\")"
   ]
  },
  {
   "cell_type": "code",
   "execution_count": 118,
   "metadata": {},
   "outputs": [
    {
     "data": {
      "text/plain": [
       "(69713, 27)"
      ]
     },
     "execution_count": 118,
     "metadata": {},
     "output_type": "execute_result"
    }
   ],
   "source": [
    "X_all.shape"
   ]
  },
  {
   "cell_type": "code",
   "execution_count": 119,
   "metadata": {},
   "outputs": [
    {
     "data": {
      "text/html": [
       "<div>\n",
       "<style scoped>\n",
       "    .dataframe tbody tr th:only-of-type {\n",
       "        vertical-align: middle;\n",
       "    }\n",
       "\n",
       "    .dataframe tbody tr th {\n",
       "        vertical-align: top;\n",
       "    }\n",
       "\n",
       "    .dataframe thead th {\n",
       "        text-align: right;\n",
       "    }\n",
       "</style>\n",
       "<table border=\"1\" class=\"dataframe\">\n",
       "  <thead>\n",
       "    <tr style=\"text-align: right;\">\n",
       "      <th></th>\n",
       "      <th>Gender_Male</th>\n",
       "      <th>City_Category_B</th>\n",
       "      <th>City_Category_C</th>\n",
       "      <th>Employer_Category1_B</th>\n",
       "      <th>Employer_Category1_C</th>\n",
       "      <th>Primary_Bank_Type_P</th>\n",
       "      <th>Contacted_Y</th>\n",
       "      <th>Source_Category_B</th>\n",
       "      <th>Source_Category_C</th>\n",
       "      <th>Source_Category_D</th>\n",
       "      <th>Source_Category_E</th>\n",
       "      <th>Source_Category_F</th>\n",
       "      <th>Source_Category_G</th>\n",
       "      <th>Employer_Category2_2.0</th>\n",
       "      <th>Employer_Category2_3.0</th>\n",
       "      <th>Employer_Category2_4.0</th>\n",
       "      <th>Var1_2</th>\n",
       "      <th>Var1_4</th>\n",
       "      <th>Var1_7</th>\n",
       "      <th>Var1_10</th>\n",
       "      <th>lead_age_1.0</th>\n",
       "      <th>lead_age_2.0</th>\n",
       "      <th>lead_age_3.0</th>\n",
       "      <th>Monthly_Income</th>\n",
       "      <th>Existing_EMI</th>\n",
       "      <th>loan_amt_cl</th>\n",
       "      <th>age</th>\n",
       "    </tr>\n",
       "  </thead>\n",
       "  <tbody>\n",
       "    <tr>\n",
       "      <th>0</th>\n",
       "      <td>0</td>\n",
       "      <td>0</td>\n",
       "      <td>0</td>\n",
       "      <td>0</td>\n",
       "      <td>0</td>\n",
       "      <td>1</td>\n",
       "      <td>0</td>\n",
       "      <td>0</td>\n",
       "      <td>0</td>\n",
       "      <td>0</td>\n",
       "      <td>0</td>\n",
       "      <td>0</td>\n",
       "      <td>1</td>\n",
       "      <td>0</td>\n",
       "      <td>0</td>\n",
       "      <td>1</td>\n",
       "      <td>0</td>\n",
       "      <td>0</td>\n",
       "      <td>0</td>\n",
       "      <td>0</td>\n",
       "      <td>0</td>\n",
       "      <td>0</td>\n",
       "      <td>1</td>\n",
       "      <td>2000.0</td>\n",
       "      <td>0.0</td>\n",
       "      <td>0.0</td>\n",
       "      <td>37.0</td>\n",
       "    </tr>\n",
       "    <tr>\n",
       "      <th>1</th>\n",
       "      <td>1</td>\n",
       "      <td>0</td>\n",
       "      <td>0</td>\n",
       "      <td>0</td>\n",
       "      <td>1</td>\n",
       "      <td>1</td>\n",
       "      <td>1</td>\n",
       "      <td>0</td>\n",
       "      <td>0</td>\n",
       "      <td>0</td>\n",
       "      <td>0</td>\n",
       "      <td>0</td>\n",
       "      <td>1</td>\n",
       "      <td>0</td>\n",
       "      <td>0</td>\n",
       "      <td>0</td>\n",
       "      <td>0</td>\n",
       "      <td>0</td>\n",
       "      <td>0</td>\n",
       "      <td>1</td>\n",
       "      <td>0</td>\n",
       "      <td>0</td>\n",
       "      <td>1</td>\n",
       "      <td>3500.0</td>\n",
       "      <td>0.0</td>\n",
       "      <td>20000.0</td>\n",
       "      <td>29.0</td>\n",
       "    </tr>\n",
       "    <tr>\n",
       "      <th>2</th>\n",
       "      <td>1</td>\n",
       "      <td>0</td>\n",
       "      <td>1</td>\n",
       "      <td>0</td>\n",
       "      <td>1</td>\n",
       "      <td>0</td>\n",
       "      <td>1</td>\n",
       "      <td>1</td>\n",
       "      <td>0</td>\n",
       "      <td>0</td>\n",
       "      <td>0</td>\n",
       "      <td>0</td>\n",
       "      <td>0</td>\n",
       "      <td>0</td>\n",
       "      <td>0</td>\n",
       "      <td>1</td>\n",
       "      <td>0</td>\n",
       "      <td>0</td>\n",
       "      <td>0</td>\n",
       "      <td>0</td>\n",
       "      <td>0</td>\n",
       "      <td>0</td>\n",
       "      <td>1</td>\n",
       "      <td>2250.0</td>\n",
       "      <td>0.0</td>\n",
       "      <td>45000.0</td>\n",
       "      <td>33.0</td>\n",
       "    </tr>\n",
       "    <tr>\n",
       "      <th>3</th>\n",
       "      <td>1</td>\n",
       "      <td>0</td>\n",
       "      <td>1</td>\n",
       "      <td>0</td>\n",
       "      <td>0</td>\n",
       "      <td>0</td>\n",
       "      <td>1</td>\n",
       "      <td>1</td>\n",
       "      <td>0</td>\n",
       "      <td>0</td>\n",
       "      <td>0</td>\n",
       "      <td>0</td>\n",
       "      <td>0</td>\n",
       "      <td>0</td>\n",
       "      <td>0</td>\n",
       "      <td>1</td>\n",
       "      <td>0</td>\n",
       "      <td>0</td>\n",
       "      <td>1</td>\n",
       "      <td>0</td>\n",
       "      <td>0</td>\n",
       "      <td>0</td>\n",
       "      <td>1</td>\n",
       "      <td>3500.0</td>\n",
       "      <td>0.0</td>\n",
       "      <td>92000.0</td>\n",
       "      <td>27.0</td>\n",
       "    </tr>\n",
       "    <tr>\n",
       "      <th>4</th>\n",
       "      <td>1</td>\n",
       "      <td>0</td>\n",
       "      <td>0</td>\n",
       "      <td>0</td>\n",
       "      <td>0</td>\n",
       "      <td>1</td>\n",
       "      <td>1</td>\n",
       "      <td>1</td>\n",
       "      <td>0</td>\n",
       "      <td>0</td>\n",
       "      <td>0</td>\n",
       "      <td>0</td>\n",
       "      <td>0</td>\n",
       "      <td>0</td>\n",
       "      <td>0</td>\n",
       "      <td>1</td>\n",
       "      <td>0</td>\n",
       "      <td>0</td>\n",
       "      <td>0</td>\n",
       "      <td>1</td>\n",
       "      <td>0</td>\n",
       "      <td>0</td>\n",
       "      <td>1</td>\n",
       "      <td>10000.0</td>\n",
       "      <td>2500.0</td>\n",
       "      <td>50000.0</td>\n",
       "      <td>31.0</td>\n",
       "    </tr>\n",
       "  </tbody>\n",
       "</table>\n",
       "</div>"
      ],
      "text/plain": [
       "   Gender_Male  City_Category_B  City_Category_C  Employer_Category1_B  \\\n",
       "0            0                0                0                     0   \n",
       "1            1                0                0                     0   \n",
       "2            1                0                1                     0   \n",
       "3            1                0                1                     0   \n",
       "4            1                0                0                     0   \n",
       "\n",
       "   Employer_Category1_C  Primary_Bank_Type_P  Contacted_Y  Source_Category_B  \\\n",
       "0                     0                    1            0                  0   \n",
       "1                     1                    1            1                  0   \n",
       "2                     1                    0            1                  1   \n",
       "3                     0                    0            1                  1   \n",
       "4                     0                    1            1                  1   \n",
       "\n",
       "   Source_Category_C  Source_Category_D  Source_Category_E  Source_Category_F  \\\n",
       "0                  0                  0                  0                  0   \n",
       "1                  0                  0                  0                  0   \n",
       "2                  0                  0                  0                  0   \n",
       "3                  0                  0                  0                  0   \n",
       "4                  0                  0                  0                  0   \n",
       "\n",
       "   Source_Category_G  Employer_Category2_2.0  Employer_Category2_3.0  \\\n",
       "0                  1                       0                       0   \n",
       "1                  1                       0                       0   \n",
       "2                  0                       0                       0   \n",
       "3                  0                       0                       0   \n",
       "4                  0                       0                       0   \n",
       "\n",
       "   Employer_Category2_4.0  Var1_2  Var1_4  Var1_7  Var1_10  lead_age_1.0  \\\n",
       "0                       1       0       0       0        0             0   \n",
       "1                       0       0       0       0        1             0   \n",
       "2                       1       0       0       0        0             0   \n",
       "3                       1       0       0       1        0             0   \n",
       "4                       1       0       0       0        1             0   \n",
       "\n",
       "   lead_age_2.0  lead_age_3.0  Monthly_Income  Existing_EMI  loan_amt_cl   age  \n",
       "0             0             1          2000.0           0.0          0.0  37.0  \n",
       "1             0             1          3500.0           0.0      20000.0  29.0  \n",
       "2             0             1          2250.0           0.0      45000.0  33.0  \n",
       "3             0             1          3500.0           0.0      92000.0  27.0  \n",
       "4             0             1         10000.0        2500.0      50000.0  31.0  "
      ]
     },
     "execution_count": 119,
     "metadata": {},
     "output_type": "execute_result"
    }
   ],
   "source": [
    "X_all.head()"
   ]
  },
  {
   "cell_type": "markdown",
   "metadata": {},
   "source": [
    "# Train Test Split"
   ]
  },
  {
   "cell_type": "code",
   "execution_count": 151,
   "metadata": {},
   "outputs": [],
   "source": [
    "from sklearn.model_selection import train_test_split\n",
    "X_train, X_test, y_train, y_test=train_test_split(X_all, Y, test_size=0.3, random_state=20)"
   ]
  },
  {
   "cell_type": "code",
   "execution_count": 152,
   "metadata": {},
   "outputs": [
    {
     "name": "stdout",
     "output_type": "stream",
     "text": [
      "Shape of Training Data (48799, 111)\n",
      "Shape of Testing Data (20914, 111)\n",
      "Response Rate in Training Data Approved    0.01457\n",
      "dtype: float64\n",
      "Response Rate in Testing Data Approved    0.014775\n",
      "dtype: float64\n"
     ]
    }
   ],
   "source": [
    "print(\"Shape of Training Data\",X_train.shape)\n",
    "print(\"Shape of Testing Data\",X_test.shape)\n",
    "print(\"Response Rate in Training Data\",y_train.mean())\n",
    "print(\"Response Rate in Testing Data\",y_test.mean())"
   ]
  },
  {
   "cell_type": "markdown",
   "metadata": {},
   "source": [
    "# Model Building Step"
   ]
  },
  {
   "cell_type": "code",
   "execution_count": 130,
   "metadata": {
    "scrolled": true
   },
   "outputs": [
    {
     "name": "stdout",
     "output_type": "stream",
     "text": [
      "Warning: Maximum number of iterations has been exceeded.\n",
      "         Current function value: 0.066672\n",
      "         Iterations: 35\n",
      "                           Logit Regression Results                           \n",
      "==============================================================================\n",
      "Dep. Variable:               Approved   No. Observations:                48799\n",
      "Model:                          Logit   Df Residuals:                    48772\n",
      "Method:                           MLE   Df Model:                           26\n",
      "Date:                Thu, 24 Jun 2021   Pseudo R-squ.:                  0.1236\n",
      "Time:                        21:07:04   Log-Likelihood:                -3253.5\n",
      "converged:                      False   LL-Null:                       -3712.5\n",
      "                                        LLR p-value:                8.997e-177\n",
      "==========================================================================================\n",
      "                             coef    std err          z      P>|z|      [0.025      0.975]\n",
      "------------------------------------------------------------------------------------------\n",
      "Gender_Male                0.1593      0.142      1.125      0.260      -0.118       0.437\n",
      "City_Category_B            0.2253      0.138      1.630      0.103      -0.046       0.496\n",
      "City_Category_C           -0.2096      0.147     -1.430      0.153      -0.497       0.078\n",
      "Employer_Category1_B       0.4574      0.098      4.684      0.000       0.266       0.649\n",
      "Employer_Category1_C       0.5376      0.099      5.418      0.000       0.343       0.732\n",
      "Primary_Bank_Type_P        0.2397      0.102      2.350      0.019       0.040       0.440\n",
      "Contacted_Y                0.2791      0.197      1.420      0.156      -0.106       0.664\n",
      "Source_Category_B         -4.2938      1.323     -3.246      0.001      -6.886      -1.701\n",
      "Source_Category_C         -3.8471      1.326     -2.902      0.004      -6.445      -1.249\n",
      "Source_Category_D         -9.9970      8.470     -1.180      0.238     -26.598       6.604\n",
      "Source_Category_E         -4.7141      1.366     -3.450      0.001      -7.392      -2.036\n",
      "Source_Category_F         -3.6330      1.399     -2.597      0.009      -6.375      -0.891\n",
      "Source_Category_G         -6.6288      0.401    -16.542      0.000      -7.414      -5.843\n",
      "Employer_Category2_2.0     0.0776      0.216      0.359      0.720      -0.346       0.501\n",
      "Employer_Category2_3.0     0.1991      0.257      0.775      0.438      -0.304       0.703\n",
      "Employer_Category2_4.0    -0.0325      0.138     -0.235      0.814      -0.303       0.238\n",
      "Var1_2                    -0.6428      0.258     -2.495      0.013      -1.148      -0.138\n",
      "Var1_4                     0.4824      0.225      2.143      0.032       0.041       0.924\n",
      "Var1_7                     1.3080      0.183      7.158      0.000       0.950       1.666\n",
      "Var1_10                    1.9246      0.175     11.006      0.000       1.582       2.267\n",
      "lead_age_1.0              -0.0049      0.308     -0.016      0.987      -0.609       0.599\n",
      "lead_age_2.0              -2.4230      1.324     -1.829      0.067      -5.019       0.173\n",
      "lead_age_3.0              -2.5768      1.325     -1.944      0.052      -5.175       0.021\n",
      "Monthly_Income         -1.212e-05   1.07e-05     -1.136      0.256    -3.3e-05    8.79e-06\n",
      "Existing_EMI               0.0005   4.27e-05     11.248      0.000       0.000       0.001\n",
      "loan_amt_cl             1.073e-06   1.38e-06      0.779      0.436   -1.63e-06    3.77e-06\n",
      "age                        0.0160      0.006      2.789      0.005       0.005       0.027\n",
      "==========================================================================================\n"
     ]
    }
   ],
   "source": [
    "import statsmodels.api as sm\n",
    "log_reg = sm.Logit(y_train, X_train).fit()\n",
    "print(log_reg.summary())"
   ]
  },
  {
   "cell_type": "code",
   "execution_count": 153,
   "metadata": {},
   "outputs": [],
   "source": [
    "# Building a Decision Tree Model\n",
    "from sklearn.tree import DecisionTreeClassifier\n",
    "dtree=DecisionTreeClassifier(criterion='gini',random_state=0)"
   ]
  },
  {
   "cell_type": "code",
   "execution_count": 154,
   "metadata": {},
   "outputs": [
    {
     "data": {
      "text/plain": [
       "DecisionTreeClassifier(max_depth=4, min_samples_split=500, random_state=0)"
      ]
     },
     "execution_count": 154,
     "metadata": {},
     "output_type": "execute_result"
    }
   ],
   "source": [
    "dtree=DecisionTreeClassifier(criterion='gini',random_state=0,max_depth=4,min_samples_split=500)\n",
    "dtree.fit(X_train,y_train)"
   ]
  },
  {
   "cell_type": "code",
   "execution_count": null,
   "metadata": {},
   "outputs": [],
   "source": [
    "!pip install pydotplus"
   ]
  },
  {
   "cell_type": "code",
   "execution_count": 163,
   "metadata": {},
   "outputs": [
    {
     "data": {
      "image/png": "[encoded data removed]",
      "text/plain": [
       "<Figure size 3600x720 with 1 Axes>"
      ]
     },
     "metadata": {},
     "output_type": "display_data"
    }
   ],
   "source": [
    "from sklearn import tree\n",
    "import pydotplus\n",
    "import matplotlib.pyplot as plt\n",
    "plt.figure(figsize=[50,10])\n",
    "tree.plot_tree(dtree,filled=True,fontsize=15,rounded=True,feature_names=X_all.columns)\n",
    "plt.show()"
   ]
  },
  {
   "cell_type": "code",
   "execution_count": 155,
   "metadata": {},
   "outputs": [],
   "source": [
    "# Model Evaluation\n",
    "y_pred_tree=dtree.predict(X_test)"
   ]
  },
  {
   "cell_type": "code",
   "execution_count": 140,
   "metadata": {},
   "outputs": [],
   "source": [
    "from sklearn import metrics\n",
    "from sklearn.metrics import confusion_matrix"
   ]
  },
  {
   "cell_type": "code",
   "execution_count": 156,
   "metadata": {},
   "outputs": [
    {
     "name": "stdout",
     "output_type": "stream",
     "text": [
      "Accuracy: 0.9852252079946447\n",
      "Precision 0.0\n",
      "Recall 0.0\n",
      "f1_score 0.0\n"
     ]
    }
   ],
   "source": [
    "from sklearn import metrics\n",
    "print(\"Accuracy:\",metrics.accuracy_score(y_test, y_pred_tree))\n",
    "print(\"Precision\",metrics.precision_score(y_test,y_pred_tree))\n",
    "print(\"Recall\",metrics.recall_score(y_test,y_pred_tree))\n",
    "print(\"f1_score\",metrics.f1_score(y_test,y_pred_tree))"
   ]
  },
  {
   "cell_type": "code",
   "execution_count": 157,
   "metadata": {},
   "outputs": [
    {
     "data": {
      "text/plain": [
       "<sklearn.metrics._plot.confusion_matrix.ConfusionMatrixDisplay at 0x216e77fd898>"
      ]
     },
     "execution_count": 157,
     "metadata": {},
     "output_type": "execute_result"
    },
    {
     "data": {
      "image/png": "[encoded data removed]",
      "text/plain": [
       "<Figure size 432x288 with 2 Axes>"
      ]
     },
     "metadata": {},
     "output_type": "display_data"
    }
   ],
   "source": [
    "metrics.plot_confusion_matrix(dtree,X_all,Y)"
   ]
  },
  {
   "cell_type": "code",
   "execution_count": null,
   "metadata": {},
   "outputs": [],
   "source": [
    "# Gains Chart Analysis\n",
    "# This will help understand the power of discrimination offered by the model's estimated probabilities"
   ]
  },
  {
   "cell_type": "code",
   "execution_count": null,
   "metadata": {},
   "outputs": [],
   "source": [
    "# Logistic Regression - Gains Chart"
   ]
  },
  {
   "cell_type": "code",
   "execution_count": 169,
   "metadata": {},
   "outputs": [
    {
     "data": {
      "text/html": [
       "<div>\n",
       "<style scoped>\n",
       "    .dataframe tbody tr th:only-of-type {\n",
       "        vertical-align: middle;\n",
       "    }\n",
       "\n",
       "    .dataframe tbody tr th {\n",
       "        vertical-align: top;\n",
       "    }\n",
       "\n",
       "    .dataframe thead th {\n",
       "        text-align: right;\n",
       "    }\n",
       "</style>\n",
       "<table border=\"1\" class=\"dataframe\">\n",
       "  <thead>\n",
       "    <tr style=\"text-align: right;\">\n",
       "      <th></th>\n",
       "      <th>P_Rank_tree</th>\n",
       "      <th>count</th>\n",
       "      <th>Actual_event_rate</th>\n",
       "      <th>Predicted_event_rate</th>\n",
       "      <th>N_events</th>\n",
       "      <th>cum_events</th>\n",
       "      <th>event_cap</th>\n",
       "      <th>cum_event_cap</th>\n",
       "      <th>N_non_events</th>\n",
       "      <th>cum_non_events</th>\n",
       "      <th>non_event_cap</th>\n",
       "      <th>cum_non_event_cap</th>\n",
       "      <th>KS</th>\n",
       "      <th>random_cap</th>\n",
       "      <th>cum_random_cap</th>\n",
       "      <th>Decile</th>\n",
       "    </tr>\n",
       "  </thead>\n",
       "  <tbody>\n",
       "    <tr>\n",
       "      <th>0</th>\n",
       "      <td>20</td>\n",
       "      <td>3486</td>\n",
       "      <td>0.071142</td>\n",
       "      <td>0.074981</td>\n",
       "      <td>248.0</td>\n",
       "      <td>248.0</td>\n",
       "      <td>0.243137</td>\n",
       "      <td>0.243137</td>\n",
       "      <td>3238.0</td>\n",
       "      <td>3238.0</td>\n",
       "      <td>0.047137</td>\n",
       "      <td>0.047137</td>\n",
       "      <td>0.1960</td>\n",
       "      <td>0.050005</td>\n",
       "      <td>0.050005</td>\n",
       "      <td>1</td>\n",
       "    </tr>\n",
       "    <tr>\n",
       "      <th>1</th>\n",
       "      <td>19</td>\n",
       "      <td>3486</td>\n",
       "      <td>0.046185</td>\n",
       "      <td>0.041882</td>\n",
       "      <td>161.0</td>\n",
       "      <td>409.0</td>\n",
       "      <td>0.157843</td>\n",
       "      <td>0.400980</td>\n",
       "      <td>3325.0</td>\n",
       "      <td>6563.0</td>\n",
       "      <td>0.048404</td>\n",
       "      <td>0.095541</td>\n",
       "      <td>0.3054</td>\n",
       "      <td>0.050005</td>\n",
       "      <td>0.100010</td>\n",
       "      <td>2</td>\n",
       "    </tr>\n",
       "    <tr>\n",
       "      <th>2</th>\n",
       "      <td>18</td>\n",
       "      <td>3485</td>\n",
       "      <td>0.031277</td>\n",
       "      <td>0.035712</td>\n",
       "      <td>109.0</td>\n",
       "      <td>518.0</td>\n",
       "      <td>0.106863</td>\n",
       "      <td>0.507843</td>\n",
       "      <td>3376.0</td>\n",
       "      <td>9939.0</td>\n",
       "      <td>0.049146</td>\n",
       "      <td>0.144687</td>\n",
       "      <td>0.3632</td>\n",
       "      <td>0.049991</td>\n",
       "      <td>0.150001</td>\n",
       "      <td>3</td>\n",
       "    </tr>\n",
       "    <tr>\n",
       "      <th>3</th>\n",
       "      <td>17</td>\n",
       "      <td>3486</td>\n",
       "      <td>0.033563</td>\n",
       "      <td>0.030739</td>\n",
       "      <td>117.0</td>\n",
       "      <td>635.0</td>\n",
       "      <td>0.114706</td>\n",
       "      <td>0.622549</td>\n",
       "      <td>3369.0</td>\n",
       "      <td>13308.0</td>\n",
       "      <td>0.049044</td>\n",
       "      <td>0.193732</td>\n",
       "      <td>0.4288</td>\n",
       "      <td>0.050005</td>\n",
       "      <td>0.200006</td>\n",
       "      <td>4</td>\n",
       "    </tr>\n",
       "    <tr>\n",
       "      <th>4</th>\n",
       "      <td>16</td>\n",
       "      <td>3485</td>\n",
       "      <td>0.019799</td>\n",
       "      <td>0.022017</td>\n",
       "      <td>69.0</td>\n",
       "      <td>704.0</td>\n",
       "      <td>0.067647</td>\n",
       "      <td>0.690196</td>\n",
       "      <td>3416.0</td>\n",
       "      <td>16724.0</td>\n",
       "      <td>0.049729</td>\n",
       "      <td>0.243460</td>\n",
       "      <td>0.4467</td>\n",
       "      <td>0.049991</td>\n",
       "      <td>0.249996</td>\n",
       "      <td>5</td>\n",
       "    </tr>\n",
       "    <tr>\n",
       "      <th>5</th>\n",
       "      <td>15</td>\n",
       "      <td>3486</td>\n",
       "      <td>0.022949</td>\n",
       "      <td>0.016507</td>\n",
       "      <td>80.0</td>\n",
       "      <td>784.0</td>\n",
       "      <td>0.078431</td>\n",
       "      <td>0.768627</td>\n",
       "      <td>3406.0</td>\n",
       "      <td>20130.0</td>\n",
       "      <td>0.049583</td>\n",
       "      <td>0.293043</td>\n",
       "      <td>0.4756</td>\n",
       "      <td>0.050005</td>\n",
       "      <td>0.300001</td>\n",
       "      <td>6</td>\n",
       "    </tr>\n",
       "    <tr>\n",
       "      <th>6</th>\n",
       "      <td>14</td>\n",
       "      <td>3486</td>\n",
       "      <td>0.012909</td>\n",
       "      <td>0.013223</td>\n",
       "      <td>45.0</td>\n",
       "      <td>829.0</td>\n",
       "      <td>0.044118</td>\n",
       "      <td>0.812745</td>\n",
       "      <td>3441.0</td>\n",
       "      <td>23571.0</td>\n",
       "      <td>0.050092</td>\n",
       "      <td>0.343135</td>\n",
       "      <td>0.4696</td>\n",
       "      <td>0.050005</td>\n",
       "      <td>0.350006</td>\n",
       "      <td>7</td>\n",
       "    </tr>\n",
       "    <tr>\n",
       "      <th>7</th>\n",
       "      <td>13</td>\n",
       "      <td>3485</td>\n",
       "      <td>0.012339</td>\n",
       "      <td>0.013223</td>\n",
       "      <td>43.0</td>\n",
       "      <td>872.0</td>\n",
       "      <td>0.042157</td>\n",
       "      <td>0.854902</td>\n",
       "      <td>3442.0</td>\n",
       "      <td>27013.0</td>\n",
       "      <td>0.050107</td>\n",
       "      <td>0.393242</td>\n",
       "      <td>0.4617</td>\n",
       "      <td>0.049991</td>\n",
       "      <td>0.399997</td>\n",
       "      <td>8</td>\n",
       "    </tr>\n",
       "    <tr>\n",
       "      <th>8</th>\n",
       "      <td>12</td>\n",
       "      <td>3486</td>\n",
       "      <td>0.012335</td>\n",
       "      <td>0.012571</td>\n",
       "      <td>43.0</td>\n",
       "      <td>915.0</td>\n",
       "      <td>0.042157</td>\n",
       "      <td>0.897059</td>\n",
       "      <td>3443.0</td>\n",
       "      <td>30456.0</td>\n",
       "      <td>0.050122</td>\n",
       "      <td>0.443364</td>\n",
       "      <td>0.4537</td>\n",
       "      <td>0.050005</td>\n",
       "      <td>0.450002</td>\n",
       "      <td>9</td>\n",
       "    </tr>\n",
       "    <tr>\n",
       "      <th>9</th>\n",
       "      <td>11</td>\n",
       "      <td>3485</td>\n",
       "      <td>0.004878</td>\n",
       "      <td>0.006142</td>\n",
       "      <td>17.0</td>\n",
       "      <td>932.0</td>\n",
       "      <td>0.016667</td>\n",
       "      <td>0.913725</td>\n",
       "      <td>3468.0</td>\n",
       "      <td>33924.0</td>\n",
       "      <td>0.050485</td>\n",
       "      <td>0.493849</td>\n",
       "      <td>0.4199</td>\n",
       "      <td>0.049991</td>\n",
       "      <td>0.499993</td>\n",
       "      <td>10</td>\n",
       "    </tr>\n",
       "    <tr>\n",
       "      <th>10</th>\n",
       "      <td>10</td>\n",
       "      <td>3486</td>\n",
       "      <td>0.005450</td>\n",
       "      <td>0.006142</td>\n",
       "      <td>19.0</td>\n",
       "      <td>951.0</td>\n",
       "      <td>0.018627</td>\n",
       "      <td>0.932353</td>\n",
       "      <td>3467.0</td>\n",
       "      <td>37391.0</td>\n",
       "      <td>0.050471</td>\n",
       "      <td>0.544320</td>\n",
       "      <td>0.3880</td>\n",
       "      <td>0.050005</td>\n",
       "      <td>0.549998</td>\n",
       "      <td>11</td>\n",
       "    </tr>\n",
       "    <tr>\n",
       "      <th>11</th>\n",
       "      <td>9</td>\n",
       "      <td>3486</td>\n",
       "      <td>0.008319</td>\n",
       "      <td>0.006142</td>\n",
       "      <td>29.0</td>\n",
       "      <td>980.0</td>\n",
       "      <td>0.028431</td>\n",
       "      <td>0.960784</td>\n",
       "      <td>3457.0</td>\n",
       "      <td>40848.0</td>\n",
       "      <td>0.050325</td>\n",
       "      <td>0.594646</td>\n",
       "      <td>0.3661</td>\n",
       "      <td>0.050005</td>\n",
       "      <td>0.600003</td>\n",
       "      <td>12</td>\n",
       "    </tr>\n",
       "    <tr>\n",
       "      <th>12</th>\n",
       "      <td>8</td>\n",
       "      <td>3485</td>\n",
       "      <td>0.006600</td>\n",
       "      <td>0.006142</td>\n",
       "      <td>23.0</td>\n",
       "      <td>1003.0</td>\n",
       "      <td>0.022549</td>\n",
       "      <td>0.983333</td>\n",
       "      <td>3462.0</td>\n",
       "      <td>44310.0</td>\n",
       "      <td>0.050398</td>\n",
       "      <td>0.645044</td>\n",
       "      <td>0.3383</td>\n",
       "      <td>0.049991</td>\n",
       "      <td>0.649994</td>\n",
       "      <td>13</td>\n",
       "    </tr>\n",
       "    <tr>\n",
       "      <th>13</th>\n",
       "      <td>7</td>\n",
       "      <td>3486</td>\n",
       "      <td>0.004303</td>\n",
       "      <td>0.004922</td>\n",
       "      <td>15.0</td>\n",
       "      <td>1018.0</td>\n",
       "      <td>0.014706</td>\n",
       "      <td>0.998039</td>\n",
       "      <td>3471.0</td>\n",
       "      <td>47781.0</td>\n",
       "      <td>0.050529</td>\n",
       "      <td>0.695573</td>\n",
       "      <td>0.3025</td>\n",
       "      <td>0.050005</td>\n",
       "      <td>0.699999</td>\n",
       "      <td>14</td>\n",
       "    </tr>\n",
       "    <tr>\n",
       "      <th>14</th>\n",
       "      <td>6</td>\n",
       "      <td>3485</td>\n",
       "      <td>0.000000</td>\n",
       "      <td>0.000270</td>\n",
       "      <td>0.0</td>\n",
       "      <td>1018.0</td>\n",
       "      <td>0.000000</td>\n",
       "      <td>0.998039</td>\n",
       "      <td>3485.0</td>\n",
       "      <td>51266.0</td>\n",
       "      <td>0.050733</td>\n",
       "      <td>0.746306</td>\n",
       "      <td>0.2517</td>\n",
       "      <td>0.049991</td>\n",
       "      <td>0.749989</td>\n",
       "      <td>15</td>\n",
       "    </tr>\n",
       "    <tr>\n",
       "      <th>15</th>\n",
       "      <td>5</td>\n",
       "      <td>3486</td>\n",
       "      <td>0.000287</td>\n",
       "      <td>0.000000</td>\n",
       "      <td>1.0</td>\n",
       "      <td>1019.0</td>\n",
       "      <td>0.000980</td>\n",
       "      <td>0.999020</td>\n",
       "      <td>3485.0</td>\n",
       "      <td>54751.0</td>\n",
       "      <td>0.050733</td>\n",
       "      <td>0.797039</td>\n",
       "      <td>0.2020</td>\n",
       "      <td>0.050005</td>\n",
       "      <td>0.799994</td>\n",
       "      <td>16</td>\n",
       "    </tr>\n",
       "    <tr>\n",
       "      <th>16</th>\n",
       "      <td>4</td>\n",
       "      <td>3486</td>\n",
       "      <td>0.000000</td>\n",
       "      <td>0.000000</td>\n",
       "      <td>0.0</td>\n",
       "      <td>1019.0</td>\n",
       "      <td>0.000000</td>\n",
       "      <td>0.999020</td>\n",
       "      <td>3486.0</td>\n",
       "      <td>58237.0</td>\n",
       "      <td>0.050748</td>\n",
       "      <td>0.847787</td>\n",
       "      <td>0.1512</td>\n",
       "      <td>0.050005</td>\n",
       "      <td>0.849999</td>\n",
       "      <td>17</td>\n",
       "    </tr>\n",
       "    <tr>\n",
       "      <th>17</th>\n",
       "      <td>3</td>\n",
       "      <td>3485</td>\n",
       "      <td>0.000287</td>\n",
       "      <td>0.000000</td>\n",
       "      <td>1.0</td>\n",
       "      <td>1020.0</td>\n",
       "      <td>0.000980</td>\n",
       "      <td>1.000000</td>\n",
       "      <td>3484.0</td>\n",
       "      <td>61721.0</td>\n",
       "      <td>0.050718</td>\n",
       "      <td>0.898505</td>\n",
       "      <td>0.1015</td>\n",
       "      <td>0.049991</td>\n",
       "      <td>0.899990</td>\n",
       "      <td>18</td>\n",
       "    </tr>\n",
       "    <tr>\n",
       "      <th>18</th>\n",
       "      <td>2</td>\n",
       "      <td>3486</td>\n",
       "      <td>0.000000</td>\n",
       "      <td>0.000000</td>\n",
       "      <td>0.0</td>\n",
       "      <td>1020.0</td>\n",
       "      <td>0.000000</td>\n",
       "      <td>1.000000</td>\n",
       "      <td>3486.0</td>\n",
       "      <td>65207.0</td>\n",
       "      <td>0.050748</td>\n",
       "      <td>0.949252</td>\n",
       "      <td>0.0507</td>\n",
       "      <td>0.050005</td>\n",
       "      <td>0.949995</td>\n",
       "      <td>19</td>\n",
       "    </tr>\n",
       "    <tr>\n",
       "      <th>19</th>\n",
       "      <td>1</td>\n",
       "      <td>3486</td>\n",
       "      <td>0.000000</td>\n",
       "      <td>0.000000</td>\n",
       "      <td>0.0</td>\n",
       "      <td>1020.0</td>\n",
       "      <td>0.000000</td>\n",
       "      <td>1.000000</td>\n",
       "      <td>3486.0</td>\n",
       "      <td>68693.0</td>\n",
       "      <td>0.050748</td>\n",
       "      <td>1.000000</td>\n",
       "      <td>0.0000</td>\n",
       "      <td>0.050005</td>\n",
       "      <td>1.000000</td>\n",
       "      <td>20</td>\n",
       "    </tr>\n",
       "  </tbody>\n",
       "</table>\n",
       "</div>"
      ],
      "text/plain": [
       "    P_Rank_tree  count  Actual_event_rate  Predicted_event_rate  N_events  \\\n",
       "0            20   3486           0.071142              0.074981     248.0   \n",
       "1            19   3486           0.046185              0.041882     161.0   \n",
       "2            18   3485           0.031277              0.035712     109.0   \n",
       "3            17   3486           0.033563              0.030739     117.0   \n",
       "4            16   3485           0.019799              0.022017      69.0   \n",
       "5            15   3486           0.022949              0.016507      80.0   \n",
       "6            14   3486           0.012909              0.013223      45.0   \n",
       "7            13   3485           0.012339              0.013223      43.0   \n",
       "8            12   3486           0.012335              0.012571      43.0   \n",
       "9            11   3485           0.004878              0.006142      17.0   \n",
       "10           10   3486           0.005450              0.006142      19.0   \n",
       "11            9   3486           0.008319              0.006142      29.0   \n",
       "12            8   3485           0.006600              0.006142      23.0   \n",
       "13            7   3486           0.004303              0.004922      15.0   \n",
       "14            6   3485           0.000000              0.000270       0.0   \n",
       "15            5   3486           0.000287              0.000000       1.0   \n",
       "16            4   3486           0.000000              0.000000       0.0   \n",
       "17            3   3485           0.000287              0.000000       1.0   \n",
       "18            2   3486           0.000000              0.000000       0.0   \n",
       "19            1   3486           0.000000              0.000000       0.0   \n",
       "\n",
       "    cum_events  event_cap  cum_event_cap  N_non_events  cum_non_events  \\\n",
       "0        248.0   0.243137       0.243137        3238.0          3238.0   \n",
       "1        409.0   0.157843       0.400980        3325.0          6563.0   \n",
       "2        518.0   0.106863       0.507843        3376.0          9939.0   \n",
       "3        635.0   0.114706       0.622549        3369.0         13308.0   \n",
       "4        704.0   0.067647       0.690196        3416.0         16724.0   \n",
       "5        784.0   0.078431       0.768627        3406.0         20130.0   \n",
       "6        829.0   0.044118       0.812745        3441.0         23571.0   \n",
       "7        872.0   0.042157       0.854902        3442.0         27013.0   \n",
       "8        915.0   0.042157       0.897059        3443.0         30456.0   \n",
       "9        932.0   0.016667       0.913725        3468.0         33924.0   \n",
       "10       951.0   0.018627       0.932353        3467.0         37391.0   \n",
       "11       980.0   0.028431       0.960784        3457.0         40848.0   \n",
       "12      1003.0   0.022549       0.983333        3462.0         44310.0   \n",
       "13      1018.0   0.014706       0.998039        3471.0         47781.0   \n",
       "14      1018.0   0.000000       0.998039        3485.0         51266.0   \n",
       "15      1019.0   0.000980       0.999020        3485.0         54751.0   \n",
       "16      1019.0   0.000000       0.999020        3486.0         58237.0   \n",
       "17      1020.0   0.000980       1.000000        3484.0         61721.0   \n",
       "18      1020.0   0.000000       1.000000        3486.0         65207.0   \n",
       "19      1020.0   0.000000       1.000000        3486.0         68693.0   \n",
       "\n",
       "    non_event_cap  cum_non_event_cap      KS  random_cap  cum_random_cap  \\\n",
       "0        0.047137           0.047137  0.1960    0.050005        0.050005   \n",
       "1        0.048404           0.095541  0.3054    0.050005        0.100010   \n",
       "2        0.049146           0.144687  0.3632    0.049991        0.150001   \n",
       "3        0.049044           0.193732  0.4288    0.050005        0.200006   \n",
       "4        0.049729           0.243460  0.4467    0.049991        0.249996   \n",
       "5        0.049583           0.293043  0.4756    0.050005        0.300001   \n",
       "6        0.050092           0.343135  0.4696    0.050005        0.350006   \n",
       "7        0.050107           0.393242  0.4617    0.049991        0.399997   \n",
       "8        0.050122           0.443364  0.4537    0.050005        0.450002   \n",
       "9        0.050485           0.493849  0.4199    0.049991        0.499993   \n",
       "10       0.050471           0.544320  0.3880    0.050005        0.549998   \n",
       "11       0.050325           0.594646  0.3661    0.050005        0.600003   \n",
       "12       0.050398           0.645044  0.3383    0.049991        0.649994   \n",
       "13       0.050529           0.695573  0.3025    0.050005        0.699999   \n",
       "14       0.050733           0.746306  0.2517    0.049991        0.749989   \n",
       "15       0.050733           0.797039  0.2020    0.050005        0.799994   \n",
       "16       0.050748           0.847787  0.1512    0.050005        0.849999   \n",
       "17       0.050718           0.898505  0.1015    0.049991        0.899990   \n",
       "18       0.050748           0.949252  0.0507    0.050005        0.949995   \n",
       "19       0.050748           1.000000  0.0000    0.050005        1.000000   \n",
       "\n",
       "    Decile  \n",
       "0        1  \n",
       "1        2  \n",
       "2        3  \n",
       "3        4  \n",
       "4        5  \n",
       "5        6  \n",
       "6        7  \n",
       "7        8  \n",
       "8        9  \n",
       "9       10  \n",
       "10      11  \n",
       "11      12  \n",
       "12      13  \n",
       "13      14  \n",
       "14      15  \n",
       "15      16  \n",
       "16      17  \n",
       "17      18  \n",
       "18      19  \n",
       "19      20  "
      ]
     },
     "execution_count": 169,
     "metadata": {},
     "output_type": "execute_result"
    }
   ],
   "source": [
    "y_pred_prob = dtree.predict_proba(X_all)[:, 1]\n",
    "df['pred_prob_dtree']=pd.DataFrame(y_pred_prob)\n",
    "df['P_Rank_tree']=pd.qcut(df['pred_prob_dtree'].rank(method='first').values,20,duplicates='drop').codes+1\n",
    "rank_df_actuals=df.groupby('P_Rank_tree')['Approved'].agg(['count','mean'])\n",
    "rank_df_predicted=df.groupby('P_Rank_tree')['pred_prob_dtree'].agg(['mean'])\n",
    "rank_df_actuals=pd.DataFrame(rank_df_actuals)\n",
    "\n",
    "rank_df_actuals.rename(columns={'mean':'Actual_event_rate'},inplace=True)\n",
    "rank_df_predicted=pd.DataFrame(rank_df_predicted)\n",
    "\n",
    "rank_df_predicted.rename(columns={'mean':'Predicted_event_rate'},inplace=True)\n",
    "rank_df=pd.concat([rank_df_actuals,rank_df_predicted],axis=1,join=\"inner\")\n",
    "\n",
    "sorted_rank_df=rank_df.sort_values(by='P_Rank_tree',ascending=False)\n",
    "sorted_rank_df['N_events']=rank_df['count']*rank_df['Actual_event_rate']\n",
    "sorted_rank_df['cum_events']=sorted_rank_df['N_events'].cumsum()\n",
    "sorted_rank_df['event_cap']=sorted_rank_df['N_events']/max(sorted_rank_df['N_events'].cumsum())\n",
    "sorted_rank_df['cum_event_cap']=sorted_rank_df['event_cap'].cumsum()\n",
    "\n",
    "sorted_rank_df['N_non_events']=sorted_rank_df['count']-sorted_rank_df['N_events']\n",
    "sorted_rank_df['cum_non_events']=sorted_rank_df['N_non_events'].cumsum()\n",
    "sorted_rank_df['non_event_cap']=sorted_rank_df['N_non_events']/max(sorted_rank_df['N_non_events'].cumsum())\n",
    "sorted_rank_df['cum_non_event_cap']=sorted_rank_df['non_event_cap'].cumsum()\n",
    "\n",
    "sorted_rank_df['KS']=round((sorted_rank_df['cum_event_cap']-sorted_rank_df['cum_non_event_cap']),4)\n",
    "\n",
    "sorted_rank_df['random_cap']=sorted_rank_df['count']/max(sorted_rank_df['count'].cumsum())\n",
    "sorted_rank_df['cum_random_cap']=sorted_rank_df['random_cap'].cumsum()\n",
    "sorted_reindexed=sorted_rank_df.reset_index()\n",
    "sorted_reindexed['Decile']=sorted_reindexed.index+1\n",
    "sorted_reindexed"
   ]
  },
  {
   "cell_type": "code",
   "execution_count": 159,
   "metadata": {},
   "outputs": [
    {
     "data": {
      "image/png": "[encoded data removed]",
      "text/plain": [
       "<Figure size 432x288 with 1 Axes>"
      ]
     },
     "metadata": {},
     "output_type": "display_data"
    }
   ],
   "source": [
    "ax = sns.lineplot( x=\"Decile\", y=\"cum_random_cap\", data=sorted_reindexed,color='red')\n",
    "ax = sns.lineplot( x=\"Decile\", y=\"cum_event_cap\", data=sorted_reindexed,color='grey')"
   ]
  },
  {
   "cell_type": "code",
   "execution_count": 160,
   "metadata": {},
   "outputs": [],
   "source": [
    "df['Predicted_Approval_Rank']=np.where(df['P_Rank_tree']>=18,\"Top 3\",\"Bottom 7\")"
   ]
  },
  {
   "cell_type": "code",
   "execution_count": 182,
   "metadata": {
    "scrolled": true
   },
   "outputs": [],
   "source": [
    "df['Predicted_Approval_Rank_2']=np.where(df['P_Rank_tree']>=18,\"Top 3\",np.where(df['P_Rank_tree']>=16,\"Mid 2\",\"Bottom Rest\"))"
   ]
  },
  {
   "cell_type": "code",
   "execution_count": 184,
   "metadata": {},
   "outputs": [
    {
     "data": {
      "text/html": [
       "<div>\n",
       "<style scoped>\n",
       "    .dataframe tbody tr th:only-of-type {\n",
       "        vertical-align: middle;\n",
       "    }\n",
       "\n",
       "    .dataframe tbody tr th {\n",
       "        vertical-align: top;\n",
       "    }\n",
       "\n",
       "    .dataframe thead th {\n",
       "        text-align: right;\n",
       "    }\n",
       "</style>\n",
       "<table border=\"1\" class=\"dataframe\">\n",
       "  <thead>\n",
       "    <tr style=\"text-align: right;\">\n",
       "      <th></th>\n",
       "      <th>mean</th>\n",
       "      <th>count</th>\n",
       "    </tr>\n",
       "    <tr>\n",
       "      <th>Predicted_Approval_Rank_2</th>\n",
       "      <th></th>\n",
       "      <th></th>\n",
       "    </tr>\n",
       "  </thead>\n",
       "  <tbody>\n",
       "    <tr>\n",
       "      <th>Bottom Rest</th>\n",
       "      <td>0.006044</td>\n",
       "      <td>52285</td>\n",
       "    </tr>\n",
       "    <tr>\n",
       "      <th>Mid 2</th>\n",
       "      <td>0.026682</td>\n",
       "      <td>6971</td>\n",
       "    </tr>\n",
       "    <tr>\n",
       "      <th>Top 3</th>\n",
       "      <td>0.049536</td>\n",
       "      <td>10457</td>\n",
       "    </tr>\n",
       "  </tbody>\n",
       "</table>\n",
       "</div>"
      ],
      "text/plain": [
       "                               mean  count\n",
       "Predicted_Approval_Rank_2                 \n",
       "Bottom Rest                0.006044  52285\n",
       "Mid 2                      0.026682   6971\n",
       "Top 3                      0.049536  10457"
      ]
     },
     "execution_count": 184,
     "metadata": {},
     "output_type": "execute_result"
    }
   ],
   "source": [
    "df.groupby('Predicted_Approval_Rank_2')['Approved'].agg(['mean','count'])"
   ]
  },
  {
   "cell_type": "markdown",
   "metadata": {},
   "source": [
    "### Concluding Notes\n",
    "#### The business team can notify the Loan Approval team to essentially target the applications which fall under 'Top 3' followed by Mid 2 deciles"
   ]
  }
 ],
 "metadata": {
  "kernelspec": {
   "display_name": "Python 3",
   "language": "python",
   "name": "python3"
  },
  "language_info": {
   "codemirror_mode": {
    "name": "ipython",
    "version": 3
   },
   "file_extension": ".py",
   "mimetype": "text/x-python",
   "name": "python",
   "nbconvert_exporter": "python",
   "pygments_lexer": "ipython3",
   "version": "3.8.3"
  }
 },
 "nbformat": 4,
 "nbformat_minor": 2
}
